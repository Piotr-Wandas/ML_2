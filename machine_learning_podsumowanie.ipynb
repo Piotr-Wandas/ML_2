{
  "nbformat": 4,
  "nbformat_minor": 0,
  "metadata": {
    "colab": {
      "provenance": []
    },
    "kernelspec": {
      "name": "python3",
      "display_name": "Python 3"
    },
    "language_info": {
      "name": "python"
    }
  },
  "cells": [
    {
      "cell_type": "code",
      "execution_count": null,
      "metadata": {
        "id": "EGz4zgVlNq8S"
      },
      "outputs": [],
      "source": [
        "import pandas as pd\n",
        "import numpy as np"
      ]
    },
    {
      "cell_type": "code",
      "source": [
        "df = pd.read_csv(\"/content/protland_housing.csv\")\n",
        "df.head()"
      ],
      "metadata": {
        "colab": {
          "base_uri": "https://localhost:8080/",
          "height": 206
        },
        "id": "lRuwRPKtN8pA",
        "outputId": "de9ad89d-6463-4d87-fabf-3c1125b2f5c1"
      },
      "execution_count": null,
      "outputs": [
        {
          "output_type": "execute_result",
          "data": {
            "text/plain": [
              "   Size  Bedrooms   Price\n",
              "0  2104         3  399900\n",
              "1  1600         3  329900\n",
              "2  2400         3  369000\n",
              "3  1416         2  232000\n",
              "4  3000         4  539900"
            ],
            "text/html": [
              "\n",
              "  <div id=\"df-e3931605-aff0-45d7-98b0-5bdc35547940\">\n",
              "    <div class=\"colab-df-container\">\n",
              "      <div>\n",
              "<style scoped>\n",
              "    .dataframe tbody tr th:only-of-type {\n",
              "        vertical-align: middle;\n",
              "    }\n",
              "\n",
              "    .dataframe tbody tr th {\n",
              "        vertical-align: top;\n",
              "    }\n",
              "\n",
              "    .dataframe thead th {\n",
              "        text-align: right;\n",
              "    }\n",
              "</style>\n",
              "<table border=\"1\" class=\"dataframe\">\n",
              "  <thead>\n",
              "    <tr style=\"text-align: right;\">\n",
              "      <th></th>\n",
              "      <th>Size</th>\n",
              "      <th>Bedrooms</th>\n",
              "      <th>Price</th>\n",
              "    </tr>\n",
              "  </thead>\n",
              "  <tbody>\n",
              "    <tr>\n",
              "      <th>0</th>\n",
              "      <td>2104</td>\n",
              "      <td>3</td>\n",
              "      <td>399900</td>\n",
              "    </tr>\n",
              "    <tr>\n",
              "      <th>1</th>\n",
              "      <td>1600</td>\n",
              "      <td>3</td>\n",
              "      <td>329900</td>\n",
              "    </tr>\n",
              "    <tr>\n",
              "      <th>2</th>\n",
              "      <td>2400</td>\n",
              "      <td>3</td>\n",
              "      <td>369000</td>\n",
              "    </tr>\n",
              "    <tr>\n",
              "      <th>3</th>\n",
              "      <td>1416</td>\n",
              "      <td>2</td>\n",
              "      <td>232000</td>\n",
              "    </tr>\n",
              "    <tr>\n",
              "      <th>4</th>\n",
              "      <td>3000</td>\n",
              "      <td>4</td>\n",
              "      <td>539900</td>\n",
              "    </tr>\n",
              "  </tbody>\n",
              "</table>\n",
              "</div>\n",
              "      <button class=\"colab-df-convert\" onclick=\"convertToInteractive('df-e3931605-aff0-45d7-98b0-5bdc35547940')\"\n",
              "              title=\"Convert this dataframe to an interactive table.\"\n",
              "              style=\"display:none;\">\n",
              "        \n",
              "  <svg xmlns=\"http://www.w3.org/2000/svg\" height=\"24px\"viewBox=\"0 0 24 24\"\n",
              "       width=\"24px\">\n",
              "    <path d=\"M0 0h24v24H0V0z\" fill=\"none\"/>\n",
              "    <path d=\"M18.56 5.44l.94 2.06.94-2.06 2.06-.94-2.06-.94-.94-2.06-.94 2.06-2.06.94zm-11 1L8.5 8.5l.94-2.06 2.06-.94-2.06-.94L8.5 2.5l-.94 2.06-2.06.94zm10 10l.94 2.06.94-2.06 2.06-.94-2.06-.94-.94-2.06-.94 2.06-2.06.94z\"/><path d=\"M17.41 7.96l-1.37-1.37c-.4-.4-.92-.59-1.43-.59-.52 0-1.04.2-1.43.59L10.3 9.45l-7.72 7.72c-.78.78-.78 2.05 0 2.83L4 21.41c.39.39.9.59 1.41.59.51 0 1.02-.2 1.41-.59l7.78-7.78 2.81-2.81c.8-.78.8-2.07 0-2.86zM5.41 20L4 18.59l7.72-7.72 1.47 1.35L5.41 20z\"/>\n",
              "  </svg>\n",
              "      </button>\n",
              "      \n",
              "  <style>\n",
              "    .colab-df-container {\n",
              "      display:flex;\n",
              "      flex-wrap:wrap;\n",
              "      gap: 12px;\n",
              "    }\n",
              "\n",
              "    .colab-df-convert {\n",
              "      background-color: #E8F0FE;\n",
              "      border: none;\n",
              "      border-radius: 50%;\n",
              "      cursor: pointer;\n",
              "      display: none;\n",
              "      fill: #1967D2;\n",
              "      height: 32px;\n",
              "      padding: 0 0 0 0;\n",
              "      width: 32px;\n",
              "    }\n",
              "\n",
              "    .colab-df-convert:hover {\n",
              "      background-color: #E2EBFA;\n",
              "      box-shadow: 0px 1px 2px rgba(60, 64, 67, 0.3), 0px 1px 3px 1px rgba(60, 64, 67, 0.15);\n",
              "      fill: #174EA6;\n",
              "    }\n",
              "\n",
              "    [theme=dark] .colab-df-convert {\n",
              "      background-color: #3B4455;\n",
              "      fill: #D2E3FC;\n",
              "    }\n",
              "\n",
              "    [theme=dark] .colab-df-convert:hover {\n",
              "      background-color: #434B5C;\n",
              "      box-shadow: 0px 1px 3px 1px rgba(0, 0, 0, 0.15);\n",
              "      filter: drop-shadow(0px 1px 2px rgba(0, 0, 0, 0.3));\n",
              "      fill: #FFFFFF;\n",
              "    }\n",
              "  </style>\n",
              "\n",
              "      <script>\n",
              "        const buttonEl =\n",
              "          document.querySelector('#df-e3931605-aff0-45d7-98b0-5bdc35547940 button.colab-df-convert');\n",
              "        buttonEl.style.display =\n",
              "          google.colab.kernel.accessAllowed ? 'block' : 'none';\n",
              "\n",
              "        async function convertToInteractive(key) {\n",
              "          const element = document.querySelector('#df-e3931605-aff0-45d7-98b0-5bdc35547940');\n",
              "          const dataTable =\n",
              "            await google.colab.kernel.invokeFunction('convertToInteractive',\n",
              "                                                     [key], {});\n",
              "          if (!dataTable) return;\n",
              "\n",
              "          const docLinkHtml = 'Like what you see? Visit the ' +\n",
              "            '<a target=\"_blank\" href=https://colab.research.google.com/notebooks/data_table.ipynb>data table notebook</a>'\n",
              "            + ' to learn more about interactive tables.';\n",
              "          element.innerHTML = '';\n",
              "          dataTable['output_type'] = 'display_data';\n",
              "          await google.colab.output.renderOutput(dataTable, element);\n",
              "          const docLink = document.createElement('div');\n",
              "          docLink.innerHTML = docLinkHtml;\n",
              "          element.appendChild(docLink);\n",
              "        }\n",
              "      </script>\n",
              "    </div>\n",
              "  </div>\n",
              "  "
            ]
          },
          "metadata": {},
          "execution_count": 4
        }
      ]
    },
    {
      "cell_type": "code",
      "source": [
        "df.info()"
      ],
      "metadata": {
        "colab": {
          "base_uri": "https://localhost:8080/"
        },
        "id": "6KPXXlGoOC26",
        "outputId": "d21dd6a5-c017-49b4-98ed-6cc3352ab136"
      },
      "execution_count": null,
      "outputs": [
        {
          "output_type": "stream",
          "name": "stdout",
          "text": [
            "<class 'pandas.core.frame.DataFrame'>\n",
            "RangeIndex: 47 entries, 0 to 46\n",
            "Data columns (total 3 columns):\n",
            " #   Column    Non-Null Count  Dtype\n",
            "---  ------    --------------  -----\n",
            " 0   Size      47 non-null     int64\n",
            " 1   Bedrooms  47 non-null     int64\n",
            " 2   Price     47 non-null     int64\n",
            "dtypes: int64(3)\n",
            "memory usage: 1.2 KB\n"
          ]
        }
      ]
    },
    {
      "cell_type": "code",
      "source": [
        "df.isnull().sum()"
      ],
      "metadata": {
        "colab": {
          "base_uri": "https://localhost:8080/"
        },
        "id": "Cw7UKuTDOOTV",
        "outputId": "46eb243f-dcab-45b9-9de5-b7b26ca3021e"
      },
      "execution_count": null,
      "outputs": [
        {
          "output_type": "execute_result",
          "data": {
            "text/plain": [
              "Size        0\n",
              "Bedrooms    0\n",
              "Price       0\n",
              "dtype: int64"
            ]
          },
          "metadata": {},
          "execution_count": 6
        }
      ]
    },
    {
      "cell_type": "code",
      "source": [
        "df.describe()"
      ],
      "metadata": {
        "colab": {
          "base_uri": "https://localhost:8080/",
          "height": 300
        },
        "id": "i1ywULlIOgJ9",
        "outputId": "03944aca-40ea-4599-d39b-9d0c815f887e"
      },
      "execution_count": null,
      "outputs": [
        {
          "output_type": "execute_result",
          "data": {
            "text/plain": [
              "              Size   Bedrooms          Price\n",
              "count    47.000000  47.000000      47.000000\n",
              "mean   2000.680851   3.170213  340412.659574\n",
              "std     794.702354   0.760982  125039.899586\n",
              "min     852.000000   1.000000  169900.000000\n",
              "25%    1432.000000   3.000000  249900.000000\n",
              "50%    1888.000000   3.000000  299900.000000\n",
              "75%    2269.000000   4.000000  384450.000000\n",
              "max    4478.000000   5.000000  699900.000000"
            ],
            "text/html": [
              "\n",
              "  <div id=\"df-c677174d-4027-474f-8579-22939cc947e5\">\n",
              "    <div class=\"colab-df-container\">\n",
              "      <div>\n",
              "<style scoped>\n",
              "    .dataframe tbody tr th:only-of-type {\n",
              "        vertical-align: middle;\n",
              "    }\n",
              "\n",
              "    .dataframe tbody tr th {\n",
              "        vertical-align: top;\n",
              "    }\n",
              "\n",
              "    .dataframe thead th {\n",
              "        text-align: right;\n",
              "    }\n",
              "</style>\n",
              "<table border=\"1\" class=\"dataframe\">\n",
              "  <thead>\n",
              "    <tr style=\"text-align: right;\">\n",
              "      <th></th>\n",
              "      <th>Size</th>\n",
              "      <th>Bedrooms</th>\n",
              "      <th>Price</th>\n",
              "    </tr>\n",
              "  </thead>\n",
              "  <tbody>\n",
              "    <tr>\n",
              "      <th>count</th>\n",
              "      <td>47.000000</td>\n",
              "      <td>47.000000</td>\n",
              "      <td>47.000000</td>\n",
              "    </tr>\n",
              "    <tr>\n",
              "      <th>mean</th>\n",
              "      <td>2000.680851</td>\n",
              "      <td>3.170213</td>\n",
              "      <td>340412.659574</td>\n",
              "    </tr>\n",
              "    <tr>\n",
              "      <th>std</th>\n",
              "      <td>794.702354</td>\n",
              "      <td>0.760982</td>\n",
              "      <td>125039.899586</td>\n",
              "    </tr>\n",
              "    <tr>\n",
              "      <th>min</th>\n",
              "      <td>852.000000</td>\n",
              "      <td>1.000000</td>\n",
              "      <td>169900.000000</td>\n",
              "    </tr>\n",
              "    <tr>\n",
              "      <th>25%</th>\n",
              "      <td>1432.000000</td>\n",
              "      <td>3.000000</td>\n",
              "      <td>249900.000000</td>\n",
              "    </tr>\n",
              "    <tr>\n",
              "      <th>50%</th>\n",
              "      <td>1888.000000</td>\n",
              "      <td>3.000000</td>\n",
              "      <td>299900.000000</td>\n",
              "    </tr>\n",
              "    <tr>\n",
              "      <th>75%</th>\n",
              "      <td>2269.000000</td>\n",
              "      <td>4.000000</td>\n",
              "      <td>384450.000000</td>\n",
              "    </tr>\n",
              "    <tr>\n",
              "      <th>max</th>\n",
              "      <td>4478.000000</td>\n",
              "      <td>5.000000</td>\n",
              "      <td>699900.000000</td>\n",
              "    </tr>\n",
              "  </tbody>\n",
              "</table>\n",
              "</div>\n",
              "      <button class=\"colab-df-convert\" onclick=\"convertToInteractive('df-c677174d-4027-474f-8579-22939cc947e5')\"\n",
              "              title=\"Convert this dataframe to an interactive table.\"\n",
              "              style=\"display:none;\">\n",
              "        \n",
              "  <svg xmlns=\"http://www.w3.org/2000/svg\" height=\"24px\"viewBox=\"0 0 24 24\"\n",
              "       width=\"24px\">\n",
              "    <path d=\"M0 0h24v24H0V0z\" fill=\"none\"/>\n",
              "    <path d=\"M18.56 5.44l.94 2.06.94-2.06 2.06-.94-2.06-.94-.94-2.06-.94 2.06-2.06.94zm-11 1L8.5 8.5l.94-2.06 2.06-.94-2.06-.94L8.5 2.5l-.94 2.06-2.06.94zm10 10l.94 2.06.94-2.06 2.06-.94-2.06-.94-.94-2.06-.94 2.06-2.06.94z\"/><path d=\"M17.41 7.96l-1.37-1.37c-.4-.4-.92-.59-1.43-.59-.52 0-1.04.2-1.43.59L10.3 9.45l-7.72 7.72c-.78.78-.78 2.05 0 2.83L4 21.41c.39.39.9.59 1.41.59.51 0 1.02-.2 1.41-.59l7.78-7.78 2.81-2.81c.8-.78.8-2.07 0-2.86zM5.41 20L4 18.59l7.72-7.72 1.47 1.35L5.41 20z\"/>\n",
              "  </svg>\n",
              "      </button>\n",
              "      \n",
              "  <style>\n",
              "    .colab-df-container {\n",
              "      display:flex;\n",
              "      flex-wrap:wrap;\n",
              "      gap: 12px;\n",
              "    }\n",
              "\n",
              "    .colab-df-convert {\n",
              "      background-color: #E8F0FE;\n",
              "      border: none;\n",
              "      border-radius: 50%;\n",
              "      cursor: pointer;\n",
              "      display: none;\n",
              "      fill: #1967D2;\n",
              "      height: 32px;\n",
              "      padding: 0 0 0 0;\n",
              "      width: 32px;\n",
              "    }\n",
              "\n",
              "    .colab-df-convert:hover {\n",
              "      background-color: #E2EBFA;\n",
              "      box-shadow: 0px 1px 2px rgba(60, 64, 67, 0.3), 0px 1px 3px 1px rgba(60, 64, 67, 0.15);\n",
              "      fill: #174EA6;\n",
              "    }\n",
              "\n",
              "    [theme=dark] .colab-df-convert {\n",
              "      background-color: #3B4455;\n",
              "      fill: #D2E3FC;\n",
              "    }\n",
              "\n",
              "    [theme=dark] .colab-df-convert:hover {\n",
              "      background-color: #434B5C;\n",
              "      box-shadow: 0px 1px 3px 1px rgba(0, 0, 0, 0.15);\n",
              "      filter: drop-shadow(0px 1px 2px rgba(0, 0, 0, 0.3));\n",
              "      fill: #FFFFFF;\n",
              "    }\n",
              "  </style>\n",
              "\n",
              "      <script>\n",
              "        const buttonEl =\n",
              "          document.querySelector('#df-c677174d-4027-474f-8579-22939cc947e5 button.colab-df-convert');\n",
              "        buttonEl.style.display =\n",
              "          google.colab.kernel.accessAllowed ? 'block' : 'none';\n",
              "\n",
              "        async function convertToInteractive(key) {\n",
              "          const element = document.querySelector('#df-c677174d-4027-474f-8579-22939cc947e5');\n",
              "          const dataTable =\n",
              "            await google.colab.kernel.invokeFunction('convertToInteractive',\n",
              "                                                     [key], {});\n",
              "          if (!dataTable) return;\n",
              "\n",
              "          const docLinkHtml = 'Like what you see? Visit the ' +\n",
              "            '<a target=\"_blank\" href=https://colab.research.google.com/notebooks/data_table.ipynb>data table notebook</a>'\n",
              "            + ' to learn more about interactive tables.';\n",
              "          element.innerHTML = '';\n",
              "          dataTable['output_type'] = 'display_data';\n",
              "          await google.colab.output.renderOutput(dataTable, element);\n",
              "          const docLink = document.createElement('div');\n",
              "          docLink.innerHTML = docLinkHtml;\n",
              "          element.appendChild(docLink);\n",
              "        }\n",
              "      </script>\n",
              "    </div>\n",
              "  </div>\n",
              "  "
            ]
          },
          "metadata": {},
          "execution_count": 7
        }
      ]
    },
    {
      "cell_type": "code",
      "source": [
        "df['Bedrooms'].value_counts()"
      ],
      "metadata": {
        "colab": {
          "base_uri": "https://localhost:8080/"
        },
        "id": "yir7EEZfOcOw",
        "outputId": "c5320740-07a7-4c54-b0f8-1afca465012f"
      },
      "execution_count": null,
      "outputs": [
        {
          "output_type": "execute_result",
          "data": {
            "text/plain": [
              "3    25\n",
              "4    14\n",
              "2     6\n",
              "5     1\n",
              "1     1\n",
              "Name: Bedrooms, dtype: int64"
            ]
          },
          "metadata": {},
          "execution_count": 8
        }
      ]
    },
    {
      "cell_type": "code",
      "source": [
        "from sklearn.preprocessing import OneHotEncoder"
      ],
      "metadata": {
        "id": "k_wwIMW1OZ7k"
      },
      "execution_count": null,
      "outputs": []
    },
    {
      "cell_type": "code",
      "source": [
        "enc = OneHotEncoder()"
      ],
      "metadata": {
        "id": "7lGyo7INS41E"
      },
      "execution_count": null,
      "outputs": []
    },
    {
      "cell_type": "code",
      "source": [
        "tmp = enc.fit(df)"
      ],
      "metadata": {
        "id": "70poEiFXTQTe"
      },
      "execution_count": null,
      "outputs": []
    },
    {
      "cell_type": "code",
      "source": [
        "tmp = enc.fit(df)"
      ],
      "metadata": {
        "id": "bzmMQWRnTkAX"
      },
      "execution_count": null,
      "outputs": []
    },
    {
      "cell_type": "code",
      "source": [
        "enc.transform(df)"
      ],
      "metadata": {
        "colab": {
          "base_uri": "https://localhost:8080/"
        },
        "id": "7jkA7FbATpJP",
        "outputId": "e480cbaa-ecdb-454f-934d-57ced6de736e"
      },
      "execution_count": null,
      "outputs": [
        {
          "output_type": "execute_result",
          "data": {
            "text/plain": [
              "<47x92 sparse matrix of type '<class 'numpy.float64'>'\n",
              "\twith 141 stored elements in Compressed Sparse Row format>"
            ]
          },
          "metadata": {},
          "execution_count": 13
        }
      ]
    },
    {
      "cell_type": "code",
      "source": [
        "transformed = enc.fit_transform(df[['Bedrooms']])\n",
        "print(transformed.toarray())"
      ],
      "metadata": {
        "colab": {
          "base_uri": "https://localhost:8080/"
        },
        "id": "C197cS0UT58y",
        "outputId": "d3d2fd93-bc07-45f6-974a-5308abea3264"
      },
      "execution_count": null,
      "outputs": [
        {
          "output_type": "stream",
          "name": "stdout",
          "text": [
            "[[0. 0. 1. 0. 0.]\n",
            " [0. 0. 1. 0. 0.]\n",
            " [0. 0. 1. 0. 0.]\n",
            " [0. 1. 0. 0. 0.]\n",
            " [0. 0. 0. 1. 0.]\n",
            " [0. 0. 0. 1. 0.]\n",
            " [0. 0. 1. 0. 0.]\n",
            " [0. 0. 1. 0. 0.]\n",
            " [0. 0. 1. 0. 0.]\n",
            " [0. 0. 1. 0. 0.]\n",
            " [0. 0. 0. 1. 0.]\n",
            " [0. 0. 1. 0. 0.]\n",
            " [0. 0. 1. 0. 0.]\n",
            " [0. 0. 0. 0. 1.]\n",
            " [0. 0. 1. 0. 0.]\n",
            " [0. 0. 0. 1. 0.]\n",
            " [0. 1. 0. 0. 0.]\n",
            " [0. 0. 1. 0. 0.]\n",
            " [0. 0. 0. 1. 0.]\n",
            " [0. 0. 0. 1. 0.]\n",
            " [0. 0. 1. 0. 0.]\n",
            " [0. 1. 0. 0. 0.]\n",
            " [0. 0. 1. 0. 0.]\n",
            " [0. 0. 0. 1. 0.]\n",
            " [0. 0. 1. 0. 0.]\n",
            " [0. 0. 1. 0. 0.]\n",
            " [0. 0. 1. 0. 0.]\n",
            " [0. 0. 1. 0. 0.]\n",
            " [0. 0. 1. 0. 0.]\n",
            " [0. 0. 1. 0. 0.]\n",
            " [0. 1. 0. 0. 0.]\n",
            " [1. 0. 0. 0. 0.]\n",
            " [0. 0. 0. 1. 0.]\n",
            " [0. 0. 1. 0. 0.]\n",
            " [0. 0. 0. 1. 0.]\n",
            " [0. 0. 1. 0. 0.]\n",
            " [0. 0. 1. 0. 0.]\n",
            " [0. 0. 0. 1. 0.]\n",
            " [0. 0. 0. 1. 0.]\n",
            " [0. 0. 0. 1. 0.]\n",
            " [0. 1. 0. 0. 0.]\n",
            " [0. 0. 1. 0. 0.]\n",
            " [0. 0. 0. 1. 0.]\n",
            " [0. 0. 1. 0. 0.]\n",
            " [0. 1. 0. 0. 0.]\n",
            " [0. 0. 0. 1. 0.]\n",
            " [0. 0. 1. 0. 0.]]\n"
          ]
        }
      ]
    },
    {
      "cell_type": "code",
      "source": [
        "df_cat = df['Bedrooms'] # wybranie zmiennych kategorycznych\n",
        "df_cat = pd.get_dummies(data=df_cat, drop_first=True) # stworzenie dummies\n",
        "df_cat = df.join(df_cat) #polaczenie oryginalnego df z dummies\n",
        "#df_cat = df_cat.drop(['Bedrooms'], axis=1) #usuniecie oryginalnych zmiennych kategorycznych\n",
        "df_cat.head()"
      ],
      "metadata": {
        "colab": {
          "base_uri": "https://localhost:8080/",
          "height": 206
        },
        "id": "RV4Ehu6MUM1V",
        "outputId": "ab854c34-fd7c-4b8f-8085-8793ad76d222"
      },
      "execution_count": null,
      "outputs": [
        {
          "output_type": "execute_result",
          "data": {
            "text/plain": [
              "   Size  Bedrooms   Price  2  3  4  5\n",
              "0  2104         3  399900  0  1  0  0\n",
              "1  1600         3  329900  0  1  0  0\n",
              "2  2400         3  369000  0  1  0  0\n",
              "3  1416         2  232000  1  0  0  0\n",
              "4  3000         4  539900  0  0  1  0"
            ],
            "text/html": [
              "\n",
              "  <div id=\"df-b637bf6a-8a13-44bc-876b-0b36e3f9674f\">\n",
              "    <div class=\"colab-df-container\">\n",
              "      <div>\n",
              "<style scoped>\n",
              "    .dataframe tbody tr th:only-of-type {\n",
              "        vertical-align: middle;\n",
              "    }\n",
              "\n",
              "    .dataframe tbody tr th {\n",
              "        vertical-align: top;\n",
              "    }\n",
              "\n",
              "    .dataframe thead th {\n",
              "        text-align: right;\n",
              "    }\n",
              "</style>\n",
              "<table border=\"1\" class=\"dataframe\">\n",
              "  <thead>\n",
              "    <tr style=\"text-align: right;\">\n",
              "      <th></th>\n",
              "      <th>Size</th>\n",
              "      <th>Bedrooms</th>\n",
              "      <th>Price</th>\n",
              "      <th>2</th>\n",
              "      <th>3</th>\n",
              "      <th>4</th>\n",
              "      <th>5</th>\n",
              "    </tr>\n",
              "  </thead>\n",
              "  <tbody>\n",
              "    <tr>\n",
              "      <th>0</th>\n",
              "      <td>2104</td>\n",
              "      <td>3</td>\n",
              "      <td>399900</td>\n",
              "      <td>0</td>\n",
              "      <td>1</td>\n",
              "      <td>0</td>\n",
              "      <td>0</td>\n",
              "    </tr>\n",
              "    <tr>\n",
              "      <th>1</th>\n",
              "      <td>1600</td>\n",
              "      <td>3</td>\n",
              "      <td>329900</td>\n",
              "      <td>0</td>\n",
              "      <td>1</td>\n",
              "      <td>0</td>\n",
              "      <td>0</td>\n",
              "    </tr>\n",
              "    <tr>\n",
              "      <th>2</th>\n",
              "      <td>2400</td>\n",
              "      <td>3</td>\n",
              "      <td>369000</td>\n",
              "      <td>0</td>\n",
              "      <td>1</td>\n",
              "      <td>0</td>\n",
              "      <td>0</td>\n",
              "    </tr>\n",
              "    <tr>\n",
              "      <th>3</th>\n",
              "      <td>1416</td>\n",
              "      <td>2</td>\n",
              "      <td>232000</td>\n",
              "      <td>1</td>\n",
              "      <td>0</td>\n",
              "      <td>0</td>\n",
              "      <td>0</td>\n",
              "    </tr>\n",
              "    <tr>\n",
              "      <th>4</th>\n",
              "      <td>3000</td>\n",
              "      <td>4</td>\n",
              "      <td>539900</td>\n",
              "      <td>0</td>\n",
              "      <td>0</td>\n",
              "      <td>1</td>\n",
              "      <td>0</td>\n",
              "    </tr>\n",
              "  </tbody>\n",
              "</table>\n",
              "</div>\n",
              "      <button class=\"colab-df-convert\" onclick=\"convertToInteractive('df-b637bf6a-8a13-44bc-876b-0b36e3f9674f')\"\n",
              "              title=\"Convert this dataframe to an interactive table.\"\n",
              "              style=\"display:none;\">\n",
              "        \n",
              "  <svg xmlns=\"http://www.w3.org/2000/svg\" height=\"24px\"viewBox=\"0 0 24 24\"\n",
              "       width=\"24px\">\n",
              "    <path d=\"M0 0h24v24H0V0z\" fill=\"none\"/>\n",
              "    <path d=\"M18.56 5.44l.94 2.06.94-2.06 2.06-.94-2.06-.94-.94-2.06-.94 2.06-2.06.94zm-11 1L8.5 8.5l.94-2.06 2.06-.94-2.06-.94L8.5 2.5l-.94 2.06-2.06.94zm10 10l.94 2.06.94-2.06 2.06-.94-2.06-.94-.94-2.06-.94 2.06-2.06.94z\"/><path d=\"M17.41 7.96l-1.37-1.37c-.4-.4-.92-.59-1.43-.59-.52 0-1.04.2-1.43.59L10.3 9.45l-7.72 7.72c-.78.78-.78 2.05 0 2.83L4 21.41c.39.39.9.59 1.41.59.51 0 1.02-.2 1.41-.59l7.78-7.78 2.81-2.81c.8-.78.8-2.07 0-2.86zM5.41 20L4 18.59l7.72-7.72 1.47 1.35L5.41 20z\"/>\n",
              "  </svg>\n",
              "      </button>\n",
              "      \n",
              "  <style>\n",
              "    .colab-df-container {\n",
              "      display:flex;\n",
              "      flex-wrap:wrap;\n",
              "      gap: 12px;\n",
              "    }\n",
              "\n",
              "    .colab-df-convert {\n",
              "      background-color: #E8F0FE;\n",
              "      border: none;\n",
              "      border-radius: 50%;\n",
              "      cursor: pointer;\n",
              "      display: none;\n",
              "      fill: #1967D2;\n",
              "      height: 32px;\n",
              "      padding: 0 0 0 0;\n",
              "      width: 32px;\n",
              "    }\n",
              "\n",
              "    .colab-df-convert:hover {\n",
              "      background-color: #E2EBFA;\n",
              "      box-shadow: 0px 1px 2px rgba(60, 64, 67, 0.3), 0px 1px 3px 1px rgba(60, 64, 67, 0.15);\n",
              "      fill: #174EA6;\n",
              "    }\n",
              "\n",
              "    [theme=dark] .colab-df-convert {\n",
              "      background-color: #3B4455;\n",
              "      fill: #D2E3FC;\n",
              "    }\n",
              "\n",
              "    [theme=dark] .colab-df-convert:hover {\n",
              "      background-color: #434B5C;\n",
              "      box-shadow: 0px 1px 3px 1px rgba(0, 0, 0, 0.15);\n",
              "      filter: drop-shadow(0px 1px 2px rgba(0, 0, 0, 0.3));\n",
              "      fill: #FFFFFF;\n",
              "    }\n",
              "  </style>\n",
              "\n",
              "      <script>\n",
              "        const buttonEl =\n",
              "          document.querySelector('#df-b637bf6a-8a13-44bc-876b-0b36e3f9674f button.colab-df-convert');\n",
              "        buttonEl.style.display =\n",
              "          google.colab.kernel.accessAllowed ? 'block' : 'none';\n",
              "\n",
              "        async function convertToInteractive(key) {\n",
              "          const element = document.querySelector('#df-b637bf6a-8a13-44bc-876b-0b36e3f9674f');\n",
              "          const dataTable =\n",
              "            await google.colab.kernel.invokeFunction('convertToInteractive',\n",
              "                                                     [key], {});\n",
              "          if (!dataTable) return;\n",
              "\n",
              "          const docLinkHtml = 'Like what you see? Visit the ' +\n",
              "            '<a target=\"_blank\" href=https://colab.research.google.com/notebooks/data_table.ipynb>data table notebook</a>'\n",
              "            + ' to learn more about interactive tables.';\n",
              "          element.innerHTML = '';\n",
              "          dataTable['output_type'] = 'display_data';\n",
              "          await google.colab.output.renderOutput(dataTable, element);\n",
              "          const docLink = document.createElement('div');\n",
              "          docLink.innerHTML = docLinkHtml;\n",
              "          element.appendChild(docLink);\n",
              "        }\n",
              "      </script>\n",
              "    </div>\n",
              "  </div>\n",
              "  "
            ]
          },
          "metadata": {},
          "execution_count": 15
        }
      ]
    },
    {
      "cell_type": "code",
      "source": [
        "df['Size'].hist()"
      ],
      "metadata": {
        "colab": {
          "base_uri": "https://localhost:8080/",
          "height": 283
        },
        "id": "xg-kMaemVeXP",
        "outputId": "442fb401-53ab-434e-a348-1339e45fd11f"
      },
      "execution_count": null,
      "outputs": [
        {
          "output_type": "execute_result",
          "data": {
            "text/plain": [
              "<matplotlib.axes._subplots.AxesSubplot at 0x7f9f8bca1450>"
            ]
          },
          "metadata": {},
          "execution_count": 16
        },
        {
          "output_type": "display_data",
          "data": {
            "text/plain": [
              "<Figure size 432x288 with 1 Axes>"
            ],
            "image/png": "[encoded data removed]"
          },
          "metadata": {
            "needs_background": "light"
          }
        }
      ]
    },
    {
      "cell_type": "code",
      "source": [
        "df['Price'].hist()"
      ],
      "metadata": {
        "colab": {
          "base_uri": "https://localhost:8080/",
          "height": 283
        },
        "id": "-geoSFIZW7vj",
        "outputId": "75bb6857-46ed-4dbf-ff6b-52e9f0fab97b"
      },
      "execution_count": null,
      "outputs": [
        {
          "output_type": "execute_result",
          "data": {
            "text/plain": [
              "<matplotlib.axes._subplots.AxesSubplot at 0x7f9f7f99fc10>"
            ]
          },
          "metadata": {},
          "execution_count": 17
        },
        {
          "output_type": "display_data",
          "data": {
            "text/plain": [
              "<Figure size 432x288 with 1 Axes>"
            ],
            "image/png": "[encoded data removed]"
          },
          "metadata": {
            "needs_background": "light"
          }
        }
      ]
    },
    {
      "cell_type": "code",
      "source": [
        "df['Bedrooms'].plot.bar()"
      ],
      "metadata": {
        "colab": {
          "base_uri": "https://localhost:8080/",
          "height": 286
        },
        "id": "tgqP2z_UW_4D",
        "outputId": "3f5b1c76-f349-4151-ee4b-66c1b7b5f764"
      },
      "execution_count": null,
      "outputs": [
        {
          "output_type": "execute_result",
          "data": {
            "text/plain": [
              "<matplotlib.axes._subplots.AxesSubplot at 0x7f9f7f9b4c50>"
            ]
          },
          "metadata": {},
          "execution_count": 18
        },
        {
          "output_type": "display_data",
          "data": {
            "text/plain": [
              "<Figure size 432x288 with 1 Axes>"
            ],
            "image/png": "[encoded data removed]"
          },
          "metadata": {
            "needs_background": "light"
          }
        }
      ]
    },
    {
      "cell_type": "code",
      "source": [
        "df['Size'].plot.box()"
      ],
      "metadata": {
        "colab": {
          "base_uri": "https://localhost:8080/",
          "height": 283
        },
        "id": "reIEFk4MXdG5",
        "outputId": "38ac1946-7008-4c8e-e1ca-e772a1ffda39"
      },
      "execution_count": null,
      "outputs": [
        {
          "output_type": "execute_result",
          "data": {
            "text/plain": [
              "<matplotlib.axes._subplots.AxesSubplot at 0x7f9f7f345290>"
            ]
          },
          "metadata": {},
          "execution_count": 19
        },
        {
          "output_type": "display_data",
          "data": {
            "text/plain": [
              "<Figure size 432x288 with 1 Axes>"
            ],
            "image/png": "[encoded data removed]"
          },
          "metadata": {
            "needs_background": "light"
          }
        }
      ]
    },
    {
      "cell_type": "code",
      "source": [
        "import matplotlib.pyplot as plt"
      ],
      "metadata": {
        "id": "Elor-4hXXx8u"
      },
      "execution_count": null,
      "outputs": []
    },
    {
      "cell_type": "code",
      "source": [
        "fig, ax=plt.subplots(figsize=(8,6))\n",
        "ax.bar(df['Bedrooms'], df.index)\n",
        "\n",
        "plt.show()"
      ],
      "metadata": {
        "colab": {
          "base_uri": "https://localhost:8080/",
          "height": 374
        },
        "id": "ON7X1OccbiGx",
        "outputId": "86c90633-1fcf-4893-9f2b-5eb1bd566b4d"
      },
      "execution_count": null,
      "outputs": [
        {
          "output_type": "display_data",
          "data": {
            "text/plain": [
              "<Figure size 576x432 with 1 Axes>"
            ],
            "image/png": "[encoded data removed]"
          },
          "metadata": {
            "needs_background": "light"
          }
        }
      ]
    },
    {
      "cell_type": "code",
      "source": [
        "df_cat = df['Bedrooms'] # wybranie zmiennych kategorycznych\n",
        "df_cat = pd.get_dummies(data=df_cat) # stworzenie dummies\n",
        "df_cat = df.join(df_cat) #polaczenie oryginalnego df z dummies\n",
        "#df_cat = df_cat.drop(['Bedrooms'], axis=1) #usuniecie oryginalnych zmiennych kategorycznych\n",
        "df_cat.head()"
      ],
      "metadata": {
        "colab": {
          "base_uri": "https://localhost:8080/",
          "height": 206
        },
        "id": "4GjFw854bpjm",
        "outputId": "340472ec-e4fe-476f-a33f-5a9db2a231ed"
      },
      "execution_count": null,
      "outputs": [
        {
          "output_type": "execute_result",
          "data": {
            "text/plain": [
              "   Size  Bedrooms   Price  1  2  3  4  5\n",
              "0  2104         3  399900  0  0  1  0  0\n",
              "1  1600         3  329900  0  0  1  0  0\n",
              "2  2400         3  369000  0  0  1  0  0\n",
              "3  1416         2  232000  0  1  0  0  0\n",
              "4  3000         4  539900  0  0  0  1  0"
            ],
            "text/html": [
              "\n",
              "  <div id=\"df-c229d3a9-e529-4ec3-ab9d-5c8833ee1e0d\">\n",
              "    <div class=\"colab-df-container\">\n",
              "      <div>\n",
              "<style scoped>\n",
              "    .dataframe tbody tr th:only-of-type {\n",
              "        vertical-align: middle;\n",
              "    }\n",
              "\n",
              "    .dataframe tbody tr th {\n",
              "        vertical-align: top;\n",
              "    }\n",
              "\n",
              "    .dataframe thead th {\n",
              "        text-align: right;\n",
              "    }\n",
              "</style>\n",
              "<table border=\"1\" class=\"dataframe\">\n",
              "  <thead>\n",
              "    <tr style=\"text-align: right;\">\n",
              "      <th></th>\n",
              "      <th>Size</th>\n",
              "      <th>Bedrooms</th>\n",
              "      <th>Price</th>\n",
              "      <th>1</th>\n",
              "      <th>2</th>\n",
              "      <th>3</th>\n",
              "      <th>4</th>\n",
              "      <th>5</th>\n",
              "    </tr>\n",
              "  </thead>\n",
              "  <tbody>\n",
              "    <tr>\n",
              "      <th>0</th>\n",
              "      <td>2104</td>\n",
              "      <td>3</td>\n",
              "      <td>399900</td>\n",
              "      <td>0</td>\n",
              "      <td>0</td>\n",
              "      <td>1</td>\n",
              "      <td>0</td>\n",
              "      <td>0</td>\n",
              "    </tr>\n",
              "    <tr>\n",
              "      <th>1</th>\n",
              "      <td>1600</td>\n",
              "      <td>3</td>\n",
              "      <td>329900</td>\n",
              "      <td>0</td>\n",
              "      <td>0</td>\n",
              "      <td>1</td>\n",
              "      <td>0</td>\n",
              "      <td>0</td>\n",
              "    </tr>\n",
              "    <tr>\n",
              "      <th>2</th>\n",
              "      <td>2400</td>\n",
              "      <td>3</td>\n",
              "      <td>369000</td>\n",
              "      <td>0</td>\n",
              "      <td>0</td>\n",
              "      <td>1</td>\n",
              "      <td>0</td>\n",
              "      <td>0</td>\n",
              "    </tr>\n",
              "    <tr>\n",
              "      <th>3</th>\n",
              "      <td>1416</td>\n",
              "      <td>2</td>\n",
              "      <td>232000</td>\n",
              "      <td>0</td>\n",
              "      <td>1</td>\n",
              "      <td>0</td>\n",
              "      <td>0</td>\n",
              "      <td>0</td>\n",
              "    </tr>\n",
              "    <tr>\n",
              "      <th>4</th>\n",
              "      <td>3000</td>\n",
              "      <td>4</td>\n",
              "      <td>539900</td>\n",
              "      <td>0</td>\n",
              "      <td>0</td>\n",
              "      <td>0</td>\n",
              "      <td>1</td>\n",
              "      <td>0</td>\n",
              "    </tr>\n",
              "  </tbody>\n",
              "</table>\n",
              "</div>\n",
              "      <button class=\"colab-df-convert\" onclick=\"convertToInteractive('df-c229d3a9-e529-4ec3-ab9d-5c8833ee1e0d')\"\n",
              "              title=\"Convert this dataframe to an interactive table.\"\n",
              "              style=\"display:none;\">\n",
              "        \n",
              "  <svg xmlns=\"http://www.w3.org/2000/svg\" height=\"24px\"viewBox=\"0 0 24 24\"\n",
              "       width=\"24px\">\n",
              "    <path d=\"M0 0h24v24H0V0z\" fill=\"none\"/>\n",
              "    <path d=\"M18.56 5.44l.94 2.06.94-2.06 2.06-.94-2.06-.94-.94-2.06-.94 2.06-2.06.94zm-11 1L8.5 8.5l.94-2.06 2.06-.94-2.06-.94L8.5 2.5l-.94 2.06-2.06.94zm10 10l.94 2.06.94-2.06 2.06-.94-2.06-.94-.94-2.06-.94 2.06-2.06.94z\"/><path d=\"M17.41 7.96l-1.37-1.37c-.4-.4-.92-.59-1.43-.59-.52 0-1.04.2-1.43.59L10.3 9.45l-7.72 7.72c-.78.78-.78 2.05 0 2.83L4 21.41c.39.39.9.59 1.41.59.51 0 1.02-.2 1.41-.59l7.78-7.78 2.81-2.81c.8-.78.8-2.07 0-2.86zM5.41 20L4 18.59l7.72-7.72 1.47 1.35L5.41 20z\"/>\n",
              "  </svg>\n",
              "      </button>\n",
              "      \n",
              "  <style>\n",
              "    .colab-df-container {\n",
              "      display:flex;\n",
              "      flex-wrap:wrap;\n",
              "      gap: 12px;\n",
              "    }\n",
              "\n",
              "    .colab-df-convert {\n",
              "      background-color: #E8F0FE;\n",
              "      border: none;\n",
              "      border-radius: 50%;\n",
              "      cursor: pointer;\n",
              "      display: none;\n",
              "      fill: #1967D2;\n",
              "      height: 32px;\n",
              "      padding: 0 0 0 0;\n",
              "      width: 32px;\n",
              "    }\n",
              "\n",
              "    .colab-df-convert:hover {\n",
              "      background-color: #E2EBFA;\n",
              "      box-shadow: 0px 1px 2px rgba(60, 64, 67, 0.3), 0px 1px 3px 1px rgba(60, 64, 67, 0.15);\n",
              "      fill: #174EA6;\n",
              "    }\n",
              "\n",
              "    [theme=dark] .colab-df-convert {\n",
              "      background-color: #3B4455;\n",
              "      fill: #D2E3FC;\n",
              "    }\n",
              "\n",
              "    [theme=dark] .colab-df-convert:hover {\n",
              "      background-color: #434B5C;\n",
              "      box-shadow: 0px 1px 3px 1px rgba(0, 0, 0, 0.15);\n",
              "      filter: drop-shadow(0px 1px 2px rgba(0, 0, 0, 0.3));\n",
              "      fill: #FFFFFF;\n",
              "    }\n",
              "  </style>\n",
              "\n",
              "      <script>\n",
              "        const buttonEl =\n",
              "          document.querySelector('#df-c229d3a9-e529-4ec3-ab9d-5c8833ee1e0d button.colab-df-convert');\n",
              "        buttonEl.style.display =\n",
              "          google.colab.kernel.accessAllowed ? 'block' : 'none';\n",
              "\n",
              "        async function convertToInteractive(key) {\n",
              "          const element = document.querySelector('#df-c229d3a9-e529-4ec3-ab9d-5c8833ee1e0d');\n",
              "          const dataTable =\n",
              "            await google.colab.kernel.invokeFunction('convertToInteractive',\n",
              "                                                     [key], {});\n",
              "          if (!dataTable) return;\n",
              "\n",
              "          const docLinkHtml = 'Like what you see? Visit the ' +\n",
              "            '<a target=\"_blank\" href=https://colab.research.google.com/notebooks/data_table.ipynb>data table notebook</a>'\n",
              "            + ' to learn more about interactive tables.';\n",
              "          element.innerHTML = '';\n",
              "          dataTable['output_type'] = 'display_data';\n",
              "          await google.colab.output.renderOutput(dataTable, element);\n",
              "          const docLink = document.createElement('div');\n",
              "          docLink.innerHTML = docLinkHtml;\n",
              "          element.appendChild(docLink);\n",
              "        }\n",
              "      </script>\n",
              "    </div>\n",
              "  </div>\n",
              "  "
            ]
          },
          "metadata": {},
          "execution_count": 22
        }
      ]
    },
    {
      "cell_type": "code",
      "source": [
        "fig, ax=plt.subplots(figsize=(8,6))\n",
        "ax.bar(df['Bedrooms'].value_counts().index, df['Bedrooms'].value_counts())\n",
        "#ax.bar(df['Bedrooms'], df['Bedrooms'].index) #błąd\n",
        "plt.show()"
      ],
      "metadata": {
        "colab": {
          "base_uri": "https://localhost:8080/",
          "height": 374
        },
        "id": "DNhe2COAOHFK",
        "outputId": "2d3feaf7-a4a7-4ae9-c3e7-0b627878bab4"
      },
      "execution_count": null,
      "outputs": [
        {
          "output_type": "display_data",
          "data": {
            "text/plain": [
              "<Figure size 576x432 with 1 Axes>"
            ],
            "image/png": "[encoded data removed]"
          },
          "metadata": {
            "needs_background": "light"
          }
        }
      ]
    },
    {
      "cell_type": "code",
      "source": [
        "df[(df['Size']< df['Size'].quantile(.95) ) & (df['Size'] > df['Size'].quantile(.05))].shape"
      ],
      "metadata": {
        "colab": {
          "base_uri": "https://localhost:8080/"
        },
        "id": "T7xiGB2yOj67",
        "outputId": "dc23463c-d032-426e-92bb-1735493073a0"
      },
      "execution_count": null,
      "outputs": [
        {
          "output_type": "execute_result",
          "data": {
            "text/plain": [
              "(41, 3)"
            ]
          },
          "metadata": {},
          "execution_count": 24
        }
      ]
    },
    {
      "cell_type": "code",
      "source": [
        "df['Bedrooms'].value_counts().index"
      ],
      "metadata": {
        "colab": {
          "base_uri": "https://localhost:8080/"
        },
        "id": "u_bs29aXROeX",
        "outputId": "c54a2f57-b1b6-4667-f20a-eace4ec231f3"
      },
      "execution_count": null,
      "outputs": [
        {
          "output_type": "execute_result",
          "data": {
            "text/plain": [
              "Int64Index([3, 4, 2, 5, 1], dtype='int64')"
            ]
          },
          "metadata": {},
          "execution_count": 25
        }
      ]
    },
    {
      "cell_type": "code",
      "source": [
        "df[(df['Size']< df['Size'].quantile(.95) ) & (df['Size'] > df['Size'].quantile(.05))]"
      ],
      "metadata": {
        "colab": {
          "base_uri": "https://localhost:8080/",
          "height": 1000
        },
        "id": "6FW0nFsyRP5s",
        "outputId": "7e251914-a69f-4772-b48e-099f47865006"
      },
      "execution_count": null,
      "outputs": [
        {
          "output_type": "execute_result",
          "data": {
            "text/plain": [
              "    Size  Bedrooms   Price\n",
              "0   2104         3  399900\n",
              "1   1600         3  329900\n",
              "2   2400         3  369000\n",
              "3   1416         2  232000\n",
              "4   3000         4  539900\n",
              "5   1985         4  299900\n",
              "6   1534         3  314900\n",
              "7   1427         3  198999\n",
              "8   1380         3  212000\n",
              "9   1494         3  242500\n",
              "10  1940         4  239999\n",
              "11  2000         3  347000\n",
              "12  1890         3  329999\n",
              "14  1268         3  259900\n",
              "15  2300         4  449900\n",
              "16  1320         2  299900\n",
              "17  1236         3  199900\n",
              "18  2609         4  499998\n",
              "19  3031         4  599000\n",
              "20  1767         3  252900\n",
              "21  1888         2  255000\n",
              "22  1604         3  242900\n",
              "23  1962         4  259900\n",
              "26  1458         3  464500\n",
              "27  2526         3  469000\n",
              "28  2200         3  475000\n",
              "29  2637         3  299900\n",
              "30  1839         2  349900\n",
              "32  2040         4  314900\n",
              "33  3137         3  579900\n",
              "34  1811         4  285900\n",
              "35  1437         3  249900\n",
              "36  1239         3  229900\n",
              "37  2132         4  345000\n",
              "39  2162         4  287000\n",
              "40  1664         2  368500\n",
              "41  2238         3  329900\n",
              "42  2567         4  314000\n",
              "43  1200         3  299000\n",
              "45  1852         4  299900\n",
              "46  1203         3  239500"
            ],
            "text/html": [
              "\n",
              "  <div id=\"df-d3b1004e-6167-4094-a859-37b0d11dbb9b\">\n",
              "    <div class=\"colab-df-container\">\n",
              "      <div>\n",
              "<style scoped>\n",
              "    .dataframe tbody tr th:only-of-type {\n",
              "        vertical-align: middle;\n",
              "    }\n",
              "\n",
              "    .dataframe tbody tr th {\n",
              "        vertical-align: top;\n",
              "    }\n",
              "\n",
              "    .dataframe thead th {\n",
              "        text-align: right;\n",
              "    }\n",
              "</style>\n",
              "<table border=\"1\" class=\"dataframe\">\n",
              "  <thead>\n",
              "    <tr style=\"text-align: right;\">\n",
              "      <th></th>\n",
              "      <th>Size</th>\n",
              "      <th>Bedrooms</th>\n",
              "      <th>Price</th>\n",
              "    </tr>\n",
              "  </thead>\n",
              "  <tbody>\n",
              "    <tr>\n",
              "      <th>0</th>\n",
              "      <td>2104</td>\n",
              "      <td>3</td>\n",
              "      <td>399900</td>\n",
              "    </tr>\n",
              "    <tr>\n",
              "      <th>1</th>\n",
              "      <td>1600</td>\n",
              "      <td>3</td>\n",
              "      <td>329900</td>\n",
              "    </tr>\n",
              "    <tr>\n",
              "      <th>2</th>\n",
              "      <td>2400</td>\n",
              "      <td>3</td>\n",
              "      <td>369000</td>\n",
              "    </tr>\n",
              "    <tr>\n",
              "      <th>3</th>\n",
              "      <td>1416</td>\n",
              "      <td>2</td>\n",
              "      <td>232000</td>\n",
              "    </tr>\n",
              "    <tr>\n",
              "      <th>4</th>\n",
              "      <td>3000</td>\n",
              "      <td>4</td>\n",
              "      <td>539900</td>\n",
              "    </tr>\n",
              "    <tr>\n",
              "      <th>5</th>\n",
              "      <td>1985</td>\n",
              "      <td>4</td>\n",
              "      <td>299900</td>\n",
              "    </tr>\n",
              "    <tr>\n",
              "      <th>6</th>\n",
              "      <td>1534</td>\n",
              "      <td>3</td>\n",
              "      <td>314900</td>\n",
              "    </tr>\n",
              "    <tr>\n",
              "      <th>7</th>\n",
              "      <td>1427</td>\n",
              "      <td>3</td>\n",
              "      <td>198999</td>\n",
              "    </tr>\n",
              "    <tr>\n",
              "      <th>8</th>\n",
              "      <td>1380</td>\n",
              "      <td>3</td>\n",
              "      <td>212000</td>\n",
              "    </tr>\n",
              "    <tr>\n",
              "      <th>9</th>\n",
              "      <td>1494</td>\n",
              "      <td>3</td>\n",
              "      <td>242500</td>\n",
              "    </tr>\n",
              "    <tr>\n",
              "      <th>10</th>\n",
              "      <td>1940</td>\n",
              "      <td>4</td>\n",
              "      <td>239999</td>\n",
              "    </tr>\n",
              "    <tr>\n",
              "      <th>11</th>\n",
              "      <td>2000</td>\n",
              "      <td>3</td>\n",
              "      <td>347000</td>\n",
              "    </tr>\n",
              "    <tr>\n",
              "      <th>12</th>\n",
              "      <td>1890</td>\n",
              "      <td>3</td>\n",
              "      <td>329999</td>\n",
              "    </tr>\n",
              "    <tr>\n",
              "      <th>14</th>\n",
              "      <td>1268</td>\n",
              "      <td>3</td>\n",
              "      <td>259900</td>\n",
              "    </tr>\n",
              "    <tr>\n",
              "      <th>15</th>\n",
              "      <td>2300</td>\n",
              "      <td>4</td>\n",
              "      <td>449900</td>\n",
              "    </tr>\n",
              "    <tr>\n",
              "      <th>16</th>\n",
              "      <td>1320</td>\n",
              "      <td>2</td>\n",
              "      <td>299900</td>\n",
              "    </tr>\n",
              "    <tr>\n",
              "      <th>17</th>\n",
              "      <td>1236</td>\n",
              "      <td>3</td>\n",
              "      <td>199900</td>\n",
              "    </tr>\n",
              "    <tr>\n",
              "      <th>18</th>\n",
              "      <td>2609</td>\n",
              "      <td>4</td>\n",
              "      <td>499998</td>\n",
              "    </tr>\n",
              "    <tr>\n",
              "      <th>19</th>\n",
              "      <td>3031</td>\n",
              "      <td>4</td>\n",
              "      <td>599000</td>\n",
              "    </tr>\n",
              "    <tr>\n",
              "      <th>20</th>\n",
              "      <td>1767</td>\n",
              "      <td>3</td>\n",
              "      <td>252900</td>\n",
              "    </tr>\n",
              "    <tr>\n",
              "      <th>21</th>\n",
              "      <td>1888</td>\n",
              "      <td>2</td>\n",
              "      <td>255000</td>\n",
              "    </tr>\n",
              "    <tr>\n",
              "      <th>22</th>\n",
              "      <td>1604</td>\n",
              "      <td>3</td>\n",
              "      <td>242900</td>\n",
              "    </tr>\n",
              "    <tr>\n",
              "      <th>23</th>\n",
              "      <td>1962</td>\n",
              "      <td>4</td>\n",
              "      <td>259900</td>\n",
              "    </tr>\n",
              "    <tr>\n",
              "      <th>26</th>\n",
              "      <td>1458</td>\n",
              "      <td>3</td>\n",
              "      <td>464500</td>\n",
              "    </tr>\n",
              "    <tr>\n",
              "      <th>27</th>\n",
              "      <td>2526</td>\n",
              "      <td>3</td>\n",
              "      <td>469000</td>\n",
              "    </tr>\n",
              "    <tr>\n",
              "      <th>28</th>\n",
              "      <td>2200</td>\n",
              "      <td>3</td>\n",
              "      <td>475000</td>\n",
              "    </tr>\n",
              "    <tr>\n",
              "      <th>29</th>\n",
              "      <td>2637</td>\n",
              "      <td>3</td>\n",
              "      <td>299900</td>\n",
              "    </tr>\n",
              "    <tr>\n",
              "      <th>30</th>\n",
              "      <td>1839</td>\n",
              "      <td>2</td>\n",
              "      <td>349900</td>\n",
              "    </tr>\n",
              "    <tr>\n",
              "      <th>32</th>\n",
              "      <td>2040</td>\n",
              "      <td>4</td>\n",
              "      <td>314900</td>\n",
              "    </tr>\n",
              "    <tr>\n",
              "      <th>33</th>\n",
              "      <td>3137</td>\n",
              "      <td>3</td>\n",
              "      <td>579900</td>\n",
              "    </tr>\n",
              "    <tr>\n",
              "      <th>34</th>\n",
              "      <td>1811</td>\n",
              "      <td>4</td>\n",
              "      <td>285900</td>\n",
              "    </tr>\n",
              "    <tr>\n",
              "      <th>35</th>\n",
              "      <td>1437</td>\n",
              "      <td>3</td>\n",
              "      <td>249900</td>\n",
              "    </tr>\n",
              "    <tr>\n",
              "      <th>36</th>\n",
              "      <td>1239</td>\n",
              "      <td>3</td>\n",
              "      <td>229900</td>\n",
              "    </tr>\n",
              "    <tr>\n",
              "      <th>37</th>\n",
              "      <td>2132</td>\n",
              "      <td>4</td>\n",
              "      <td>345000</td>\n",
              "    </tr>\n",
              "    <tr>\n",
              "      <th>39</th>\n",
              "      <td>2162</td>\n",
              "      <td>4</td>\n",
              "      <td>287000</td>\n",
              "    </tr>\n",
              "    <tr>\n",
              "      <th>40</th>\n",
              "      <td>1664</td>\n",
              "      <td>2</td>\n",
              "      <td>368500</td>\n",
              "    </tr>\n",
              "    <tr>\n",
              "      <th>41</th>\n",
              "      <td>2238</td>\n",
              "      <td>3</td>\n",
              "      <td>329900</td>\n",
              "    </tr>\n",
              "    <tr>\n",
              "      <th>42</th>\n",
              "      <td>2567</td>\n",
              "      <td>4</td>\n",
              "      <td>314000</td>\n",
              "    </tr>\n",
              "    <tr>\n",
              "      <th>43</th>\n",
              "      <td>1200</td>\n",
              "      <td>3</td>\n",
              "      <td>299000</td>\n",
              "    </tr>\n",
              "    <tr>\n",
              "      <th>45</th>\n",
              "      <td>1852</td>\n",
              "      <td>4</td>\n",
              "      <td>299900</td>\n",
              "    </tr>\n",
              "    <tr>\n",
              "      <th>46</th>\n",
              "      <td>1203</td>\n",
              "      <td>3</td>\n",
              "      <td>239500</td>\n",
              "    </tr>\n",
              "  </tbody>\n",
              "</table>\n",
              "</div>\n",
              "      <button class=\"colab-df-convert\" onclick=\"convertToInteractive('df-d3b1004e-6167-4094-a859-37b0d11dbb9b')\"\n",
              "              title=\"Convert this dataframe to an interactive table.\"\n",
              "              style=\"display:none;\">\n",
              "        \n",
              "  <svg xmlns=\"http://www.w3.org/2000/svg\" height=\"24px\"viewBox=\"0 0 24 24\"\n",
              "       width=\"24px\">\n",
              "    <path d=\"M0 0h24v24H0V0z\" fill=\"none\"/>\n",
              "    <path d=\"M18.56 5.44l.94 2.06.94-2.06 2.06-.94-2.06-.94-.94-2.06-.94 2.06-2.06.94zm-11 1L8.5 8.5l.94-2.06 2.06-.94-2.06-.94L8.5 2.5l-.94 2.06-2.06.94zm10 10l.94 2.06.94-2.06 2.06-.94-2.06-.94-.94-2.06-.94 2.06-2.06.94z\"/><path d=\"M17.41 7.96l-1.37-1.37c-.4-.4-.92-.59-1.43-.59-.52 0-1.04.2-1.43.59L10.3 9.45l-7.72 7.72c-.78.78-.78 2.05 0 2.83L4 21.41c.39.39.9.59 1.41.59.51 0 1.02-.2 1.41-.59l7.78-7.78 2.81-2.81c.8-.78.8-2.07 0-2.86zM5.41 20L4 18.59l7.72-7.72 1.47 1.35L5.41 20z\"/>\n",
              "  </svg>\n",
              "      </button>\n",
              "      \n",
              "  <style>\n",
              "    .colab-df-container {\n",
              "      display:flex;\n",
              "      flex-wrap:wrap;\n",
              "      gap: 12px;\n",
              "    }\n",
              "\n",
              "    .colab-df-convert {\n",
              "      background-color: #E8F0FE;\n",
              "      border: none;\n",
              "      border-radius: 50%;\n",
              "      cursor: pointer;\n",
              "      display: none;\n",
              "      fill: #1967D2;\n",
              "      height: 32px;\n",
              "      padding: 0 0 0 0;\n",
              "      width: 32px;\n",
              "    }\n",
              "\n",
              "    .colab-df-convert:hover {\n",
              "      background-color: #E2EBFA;\n",
              "      box-shadow: 0px 1px 2px rgba(60, 64, 67, 0.3), 0px 1px 3px 1px rgba(60, 64, 67, 0.15);\n",
              "      fill: #174EA6;\n",
              "    }\n",
              "\n",
              "    [theme=dark] .colab-df-convert {\n",
              "      background-color: #3B4455;\n",
              "      fill: #D2E3FC;\n",
              "    }\n",
              "\n",
              "    [theme=dark] .colab-df-convert:hover {\n",
              "      background-color: #434B5C;\n",
              "      box-shadow: 0px 1px 3px 1px rgba(0, 0, 0, 0.15);\n",
              "      filter: drop-shadow(0px 1px 2px rgba(0, 0, 0, 0.3));\n",
              "      fill: #FFFFFF;\n",
              "    }\n",
              "  </style>\n",
              "\n",
              "      <script>\n",
              "        const buttonEl =\n",
              "          document.querySelector('#df-d3b1004e-6167-4094-a859-37b0d11dbb9b button.colab-df-convert');\n",
              "        buttonEl.style.display =\n",
              "          google.colab.kernel.accessAllowed ? 'block' : 'none';\n",
              "\n",
              "        async function convertToInteractive(key) {\n",
              "          const element = document.querySelector('#df-d3b1004e-6167-4094-a859-37b0d11dbb9b');\n",
              "          const dataTable =\n",
              "            await google.colab.kernel.invokeFunction('convertToInteractive',\n",
              "                                                     [key], {});\n",
              "          if (!dataTable) return;\n",
              "\n",
              "          const docLinkHtml = 'Like what you see? Visit the ' +\n",
              "            '<a target=\"_blank\" href=https://colab.research.google.com/notebooks/data_table.ipynb>data table notebook</a>'\n",
              "            + ' to learn more about interactive tables.';\n",
              "          element.innerHTML = '';\n",
              "          dataTable['output_type'] = 'display_data';\n",
              "          await google.colab.output.renderOutput(dataTable, element);\n",
              "          const docLink = document.createElement('div');\n",
              "          docLink.innerHTML = docLinkHtml;\n",
              "          element.appendChild(docLink);\n",
              "        }\n",
              "      </script>\n",
              "    </div>\n",
              "  </div>\n",
              "  "
            ]
          },
          "metadata": {},
          "execution_count": 26
        }
      ]
    },
    {
      "cell_type": "code",
      "source": [
        "df.quantile([0.01,0.05, 0.25, 0.5, 0.75, 0.95, 0.99])"
      ],
      "metadata": {
        "colab": {
          "base_uri": "https://localhost:8080/",
          "height": 269
        },
        "id": "1s0plBerRUOH",
        "outputId": "818efbd7-5ba6-4d29-b86d-07e5fa4efd9c"
      },
      "execution_count": null,
      "outputs": [
        {
          "output_type": "execute_result",
          "data": {
            "text/plain": [
              "         Size  Bedrooms     Price\n",
              "0.01   920.08      1.46  174500.0\n",
              "0.05  1130.00      2.00  199269.3\n",
              "0.25  1432.00      3.00  249900.0\n",
              "0.50  1888.00      3.00  299900.0\n",
              "0.75  2269.00      4.00  384450.0\n",
              "0.95  3664.10      4.00  578100.0\n",
              "0.99  4357.02      4.54  653486.0"
            ],
            "text/html": [
              "\n",
              "  <div id=\"df-86538676-3929-4b23-bf4c-467b43252abf\">\n",
              "    <div class=\"colab-df-container\">\n",
              "      <div>\n",
              "<style scoped>\n",
              "    .dataframe tbody tr th:only-of-type {\n",
              "        vertical-align: middle;\n",
              "    }\n",
              "\n",
              "    .dataframe tbody tr th {\n",
              "        vertical-align: top;\n",
              "    }\n",
              "\n",
              "    .dataframe thead th {\n",
              "        text-align: right;\n",
              "    }\n",
              "</style>\n",
              "<table border=\"1\" class=\"dataframe\">\n",
              "  <thead>\n",
              "    <tr style=\"text-align: right;\">\n",
              "      <th></th>\n",
              "      <th>Size</th>\n",
              "      <th>Bedrooms</th>\n",
              "      <th>Price</th>\n",
              "    </tr>\n",
              "  </thead>\n",
              "  <tbody>\n",
              "    <tr>\n",
              "      <th>0.01</th>\n",
              "      <td>920.08</td>\n",
              "      <td>1.46</td>\n",
              "      <td>174500.0</td>\n",
              "    </tr>\n",
              "    <tr>\n",
              "      <th>0.05</th>\n",
              "      <td>1130.00</td>\n",
              "      <td>2.00</td>\n",
              "      <td>199269.3</td>\n",
              "    </tr>\n",
              "    <tr>\n",
              "      <th>0.25</th>\n",
              "      <td>1432.00</td>\n",
              "      <td>3.00</td>\n",
              "      <td>249900.0</td>\n",
              "    </tr>\n",
              "    <tr>\n",
              "      <th>0.50</th>\n",
              "      <td>1888.00</td>\n",
              "      <td>3.00</td>\n",
              "      <td>299900.0</td>\n",
              "    </tr>\n",
              "    <tr>\n",
              "      <th>0.75</th>\n",
              "      <td>2269.00</td>\n",
              "      <td>4.00</td>\n",
              "      <td>384450.0</td>\n",
              "    </tr>\n",
              "    <tr>\n",
              "      <th>0.95</th>\n",
              "      <td>3664.10</td>\n",
              "      <td>4.00</td>\n",
              "      <td>578100.0</td>\n",
              "    </tr>\n",
              "    <tr>\n",
              "      <th>0.99</th>\n",
              "      <td>4357.02</td>\n",
              "      <td>4.54</td>\n",
              "      <td>653486.0</td>\n",
              "    </tr>\n",
              "  </tbody>\n",
              "</table>\n",
              "</div>\n",
              "      <button class=\"colab-df-convert\" onclick=\"convertToInteractive('df-86538676-3929-4b23-bf4c-467b43252abf')\"\n",
              "              title=\"Convert this dataframe to an interactive table.\"\n",
              "              style=\"display:none;\">\n",
              "        \n",
              "  <svg xmlns=\"http://www.w3.org/2000/svg\" height=\"24px\"viewBox=\"0 0 24 24\"\n",
              "       width=\"24px\">\n",
              "    <path d=\"M0 0h24v24H0V0z\" fill=\"none\"/>\n",
              "    <path d=\"M18.56 5.44l.94 2.06.94-2.06 2.06-.94-2.06-.94-.94-2.06-.94 2.06-2.06.94zm-11 1L8.5 8.5l.94-2.06 2.06-.94-2.06-.94L8.5 2.5l-.94 2.06-2.06.94zm10 10l.94 2.06.94-2.06 2.06-.94-2.06-.94-.94-2.06-.94 2.06-2.06.94z\"/><path d=\"M17.41 7.96l-1.37-1.37c-.4-.4-.92-.59-1.43-.59-.52 0-1.04.2-1.43.59L10.3 9.45l-7.72 7.72c-.78.78-.78 2.05 0 2.83L4 21.41c.39.39.9.59 1.41.59.51 0 1.02-.2 1.41-.59l7.78-7.78 2.81-2.81c.8-.78.8-2.07 0-2.86zM5.41 20L4 18.59l7.72-7.72 1.47 1.35L5.41 20z\"/>\n",
              "  </svg>\n",
              "      </button>\n",
              "      \n",
              "  <style>\n",
              "    .colab-df-container {\n",
              "      display:flex;\n",
              "      flex-wrap:wrap;\n",
              "      gap: 12px;\n",
              "    }\n",
              "\n",
              "    .colab-df-convert {\n",
              "      background-color: #E8F0FE;\n",
              "      border: none;\n",
              "      border-radius: 50%;\n",
              "      cursor: pointer;\n",
              "      display: none;\n",
              "      fill: #1967D2;\n",
              "      height: 32px;\n",
              "      padding: 0 0 0 0;\n",
              "      width: 32px;\n",
              "    }\n",
              "\n",
              "    .colab-df-convert:hover {\n",
              "      background-color: #E2EBFA;\n",
              "      box-shadow: 0px 1px 2px rgba(60, 64, 67, 0.3), 0px 1px 3px 1px rgba(60, 64, 67, 0.15);\n",
              "      fill: #174EA6;\n",
              "    }\n",
              "\n",
              "    [theme=dark] .colab-df-convert {\n",
              "      background-color: #3B4455;\n",
              "      fill: #D2E3FC;\n",
              "    }\n",
              "\n",
              "    [theme=dark] .colab-df-convert:hover {\n",
              "      background-color: #434B5C;\n",
              "      box-shadow: 0px 1px 3px 1px rgba(0, 0, 0, 0.15);\n",
              "      filter: drop-shadow(0px 1px 2px rgba(0, 0, 0, 0.3));\n",
              "      fill: #FFFFFF;\n",
              "    }\n",
              "  </style>\n",
              "\n",
              "      <script>\n",
              "        const buttonEl =\n",
              "          document.querySelector('#df-86538676-3929-4b23-bf4c-467b43252abf button.colab-df-convert');\n",
              "        buttonEl.style.display =\n",
              "          google.colab.kernel.accessAllowed ? 'block' : 'none';\n",
              "\n",
              "        async function convertToInteractive(key) {\n",
              "          const element = document.querySelector('#df-86538676-3929-4b23-bf4c-467b43252abf');\n",
              "          const dataTable =\n",
              "            await google.colab.kernel.invokeFunction('convertToInteractive',\n",
              "                                                     [key], {});\n",
              "          if (!dataTable) return;\n",
              "\n",
              "          const docLinkHtml = 'Like what you see? Visit the ' +\n",
              "            '<a target=\"_blank\" href=https://colab.research.google.com/notebooks/data_table.ipynb>data table notebook</a>'\n",
              "            + ' to learn more about interactive tables.';\n",
              "          element.innerHTML = '';\n",
              "          dataTable['output_type'] = 'display_data';\n",
              "          await google.colab.output.renderOutput(dataTable, element);\n",
              "          const docLink = document.createElement('div');\n",
              "          docLink.innerHTML = docLinkHtml;\n",
              "          element.appendChild(docLink);\n",
              "        }\n",
              "      </script>\n",
              "    </div>\n",
              "  </div>\n",
              "  "
            ]
          },
          "metadata": {},
          "execution_count": 27
        }
      ]
    },
    {
      "cell_type": "code",
      "source": [
        "df[(df['Size']> df['Size'].quantile(.95) ) | (df['Size'] < df['Size'].quantile(.05))]"
      ],
      "metadata": {
        "colab": {
          "base_uri": "https://localhost:8080/",
          "height": 237
        },
        "id": "ePHFhkXKR8kS",
        "outputId": "8cc07cc1-1f70-4e1e-fc74-bfd70271ef2b"
      },
      "execution_count": null,
      "outputs": [
        {
          "output_type": "execute_result",
          "data": {
            "text/plain": [
              "    Size  Bedrooms   Price\n",
              "13  4478         5  699900\n",
              "24  3890         3  573900\n",
              "25  1100         3  249900\n",
              "31  1000         1  169900\n",
              "38  4215         4  549000\n",
              "44   852         2  179900"
            ],
            "text/html": [
              "\n",
              "  <div id=\"df-f8975db8-fd10-4a37-a396-6bcf5ff81472\">\n",
              "    <div class=\"colab-df-container\">\n",
              "      <div>\n",
              "<style scoped>\n",
              "    .dataframe tbody tr th:only-of-type {\n",
              "        vertical-align: middle;\n",
              "    }\n",
              "\n",
              "    .dataframe tbody tr th {\n",
              "        vertical-align: top;\n",
              "    }\n",
              "\n",
              "    .dataframe thead th {\n",
              "        text-align: right;\n",
              "    }\n",
              "</style>\n",
              "<table border=\"1\" class=\"dataframe\">\n",
              "  <thead>\n",
              "    <tr style=\"text-align: right;\">\n",
              "      <th></th>\n",
              "      <th>Size</th>\n",
              "      <th>Bedrooms</th>\n",
              "      <th>Price</th>\n",
              "    </tr>\n",
              "  </thead>\n",
              "  <tbody>\n",
              "    <tr>\n",
              "      <th>13</th>\n",
              "      <td>4478</td>\n",
              "      <td>5</td>\n",
              "      <td>699900</td>\n",
              "    </tr>\n",
              "    <tr>\n",
              "      <th>24</th>\n",
              "      <td>3890</td>\n",
              "      <td>3</td>\n",
              "      <td>573900</td>\n",
              "    </tr>\n",
              "    <tr>\n",
              "      <th>25</th>\n",
              "      <td>1100</td>\n",
              "      <td>3</td>\n",
              "      <td>249900</td>\n",
              "    </tr>\n",
              "    <tr>\n",
              "      <th>31</th>\n",
              "      <td>1000</td>\n",
              "      <td>1</td>\n",
              "      <td>169900</td>\n",
              "    </tr>\n",
              "    <tr>\n",
              "      <th>38</th>\n",
              "      <td>4215</td>\n",
              "      <td>4</td>\n",
              "      <td>549000</td>\n",
              "    </tr>\n",
              "    <tr>\n",
              "      <th>44</th>\n",
              "      <td>852</td>\n",
              "      <td>2</td>\n",
              "      <td>179900</td>\n",
              "    </tr>\n",
              "  </tbody>\n",
              "</table>\n",
              "</div>\n",
              "      <button class=\"colab-df-convert\" onclick=\"convertToInteractive('df-f8975db8-fd10-4a37-a396-6bcf5ff81472')\"\n",
              "              title=\"Convert this dataframe to an interactive table.\"\n",
              "              style=\"display:none;\">\n",
              "        \n",
              "  <svg xmlns=\"http://www.w3.org/2000/svg\" height=\"24px\"viewBox=\"0 0 24 24\"\n",
              "       width=\"24px\">\n",
              "    <path d=\"M0 0h24v24H0V0z\" fill=\"none\"/>\n",
              "    <path d=\"M18.56 5.44l.94 2.06.94-2.06 2.06-.94-2.06-.94-.94-2.06-.94 2.06-2.06.94zm-11 1L8.5 8.5l.94-2.06 2.06-.94-2.06-.94L8.5 2.5l-.94 2.06-2.06.94zm10 10l.94 2.06.94-2.06 2.06-.94-2.06-.94-.94-2.06-.94 2.06-2.06.94z\"/><path d=\"M17.41 7.96l-1.37-1.37c-.4-.4-.92-.59-1.43-.59-.52 0-1.04.2-1.43.59L10.3 9.45l-7.72 7.72c-.78.78-.78 2.05 0 2.83L4 21.41c.39.39.9.59 1.41.59.51 0 1.02-.2 1.41-.59l7.78-7.78 2.81-2.81c.8-.78.8-2.07 0-2.86zM5.41 20L4 18.59l7.72-7.72 1.47 1.35L5.41 20z\"/>\n",
              "  </svg>\n",
              "      </button>\n",
              "      \n",
              "  <style>\n",
              "    .colab-df-container {\n",
              "      display:flex;\n",
              "      flex-wrap:wrap;\n",
              "      gap: 12px;\n",
              "    }\n",
              "\n",
              "    .colab-df-convert {\n",
              "      background-color: #E8F0FE;\n",
              "      border: none;\n",
              "      border-radius: 50%;\n",
              "      cursor: pointer;\n",
              "      display: none;\n",
              "      fill: #1967D2;\n",
              "      height: 32px;\n",
              "      padding: 0 0 0 0;\n",
              "      width: 32px;\n",
              "    }\n",
              "\n",
              "    .colab-df-convert:hover {\n",
              "      background-color: #E2EBFA;\n",
              "      box-shadow: 0px 1px 2px rgba(60, 64, 67, 0.3), 0px 1px 3px 1px rgba(60, 64, 67, 0.15);\n",
              "      fill: #174EA6;\n",
              "    }\n",
              "\n",
              "    [theme=dark] .colab-df-convert {\n",
              "      background-color: #3B4455;\n",
              "      fill: #D2E3FC;\n",
              "    }\n",
              "\n",
              "    [theme=dark] .colab-df-convert:hover {\n",
              "      background-color: #434B5C;\n",
              "      box-shadow: 0px 1px 3px 1px rgba(0, 0, 0, 0.15);\n",
              "      filter: drop-shadow(0px 1px 2px rgba(0, 0, 0, 0.3));\n",
              "      fill: #FFFFFF;\n",
              "    }\n",
              "  </style>\n",
              "\n",
              "      <script>\n",
              "        const buttonEl =\n",
              "          document.querySelector('#df-f8975db8-fd10-4a37-a396-6bcf5ff81472 button.colab-df-convert');\n",
              "        buttonEl.style.display =\n",
              "          google.colab.kernel.accessAllowed ? 'block' : 'none';\n",
              "\n",
              "        async function convertToInteractive(key) {\n",
              "          const element = document.querySelector('#df-f8975db8-fd10-4a37-a396-6bcf5ff81472');\n",
              "          const dataTable =\n",
              "            await google.colab.kernel.invokeFunction('convertToInteractive',\n",
              "                                                     [key], {});\n",
              "          if (!dataTable) return;\n",
              "\n",
              "          const docLinkHtml = 'Like what you see? Visit the ' +\n",
              "            '<a target=\"_blank\" href=https://colab.research.google.com/notebooks/data_table.ipynb>data table notebook</a>'\n",
              "            + ' to learn more about interactive tables.';\n",
              "          element.innerHTML = '';\n",
              "          dataTable['output_type'] = 'display_data';\n",
              "          await google.colab.output.renderOutput(dataTable, element);\n",
              "          const docLink = document.createElement('div');\n",
              "          docLink.innerHTML = docLinkHtml;\n",
              "          element.appendChild(docLink);\n",
              "        }\n",
              "      </script>\n",
              "    </div>\n",
              "  </div>\n",
              "  "
            ]
          },
          "metadata": {},
          "execution_count": 28
        }
      ]
    },
    {
      "cell_type": "code",
      "source": [
        "print(np.where(df['Size']>3500))"
      ],
      "metadata": {
        "colab": {
          "base_uri": "https://localhost:8080/"
        },
        "id": "wiVHaA0eR-4n",
        "outputId": "2c0cf481-5011-4706-9831-710fc80259c8"
      },
      "execution_count": null,
      "outputs": [
        {
          "output_type": "stream",
          "name": "stdout",
          "text": [
            "(array([13, 24, 38]),)\n"
          ]
        }
      ]
    },
    {
      "cell_type": "code",
      "source": [
        "variable = ['Price', 'Size']\n",
        "sigma = df[variable].std()\n",
        "mean= df[variable].mean()"
      ],
      "metadata": {
        "id": "9WIVpdpgSFod"
      },
      "execution_count": null,
      "outputs": []
    },
    {
      "cell_type": "code",
      "source": [
        "low_boundary = (mean - 3 * sigma)\n",
        "upp_boundary = (mean + 3 * sigma)\n",
        "num_of_outliers_L = (df[variable] < low_boundary).sum()\n",
        "num_of_outliers_U = (df[variable] > upp_boundary).sum()\n",
        "outliers_3sigma = pd.DataFrame({'lower_boundary':low_boundary, 'upper_boundary':upp_boundary,'num_of_outliers_L':num_of_outliers_L, 'num_of_outliers_U':num_of_outliers_U})"
      ],
      "metadata": {
        "id": "A2v_9806ULvu"
      },
      "execution_count": null,
      "outputs": []
    },
    {
      "cell_type": "code",
      "source": [
        "low_boundary"
      ],
      "metadata": {
        "colab": {
          "base_uri": "https://localhost:8080/"
        },
        "id": "isSvX37lUPPT",
        "outputId": "9848d621-68a0-4ef6-fed6-84b9a66f296b"
      },
      "execution_count": null,
      "outputs": [
        {
          "output_type": "execute_result",
          "data": {
            "text/plain": [
              "Price   -34707.039185\n",
              "Size      -383.426210\n",
              "dtype: float64"
            ]
          },
          "metadata": {},
          "execution_count": 32
        }
      ]
    },
    {
      "cell_type": "code",
      "source": [
        "outliers_3sigma"
      ],
      "metadata": {
        "colab": {
          "base_uri": "https://localhost:8080/",
          "height": 112
        },
        "id": "oRqMIkHTURcx",
        "outputId": "1ab9af81-8db1-4439-96d5-86e844b0e27d"
      },
      "execution_count": null,
      "outputs": [
        {
          "output_type": "execute_result",
          "data": {
            "text/plain": [
              "       lower_boundary  upper_boundary  num_of_outliers_L  num_of_outliers_U\n",
              "Price   -34707.039185   715532.358334                  0                  0\n",
              "Size      -383.426210     4384.787912                  0                  1"
            ],
            "text/html": [
              "\n",
              "  <div id=\"df-6b2f4102-37a5-40a3-8164-1bd3295eff6a\">\n",
              "    <div class=\"colab-df-container\">\n",
              "      <div>\n",
              "<style scoped>\n",
              "    .dataframe tbody tr th:only-of-type {\n",
              "        vertical-align: middle;\n",
              "    }\n",
              "\n",
              "    .dataframe tbody tr th {\n",
              "        vertical-align: top;\n",
              "    }\n",
              "\n",
              "    .dataframe thead th {\n",
              "        text-align: right;\n",
              "    }\n",
              "</style>\n",
              "<table border=\"1\" class=\"dataframe\">\n",
              "  <thead>\n",
              "    <tr style=\"text-align: right;\">\n",
              "      <th></th>\n",
              "      <th>lower_boundary</th>\n",
              "      <th>upper_boundary</th>\n",
              "      <th>num_of_outliers_L</th>\n",
              "      <th>num_of_outliers_U</th>\n",
              "    </tr>\n",
              "  </thead>\n",
              "  <tbody>\n",
              "    <tr>\n",
              "      <th>Price</th>\n",
              "      <td>-34707.039185</td>\n",
              "      <td>715532.358334</td>\n",
              "      <td>0</td>\n",
              "      <td>0</td>\n",
              "    </tr>\n",
              "    <tr>\n",
              "      <th>Size</th>\n",
              "      <td>-383.426210</td>\n",
              "      <td>4384.787912</td>\n",
              "      <td>0</td>\n",
              "      <td>1</td>\n",
              "    </tr>\n",
              "  </tbody>\n",
              "</table>\n",
              "</div>\n",
              "      <button class=\"colab-df-convert\" onclick=\"convertToInteractive('df-6b2f4102-37a5-40a3-8164-1bd3295eff6a')\"\n",
              "              title=\"Convert this dataframe to an interactive table.\"\n",
              "              style=\"display:none;\">\n",
              "        \n",
              "  <svg xmlns=\"http://www.w3.org/2000/svg\" height=\"24px\"viewBox=\"0 0 24 24\"\n",
              "       width=\"24px\">\n",
              "    <path d=\"M0 0h24v24H0V0z\" fill=\"none\"/>\n",
              "    <path d=\"M18.56 5.44l.94 2.06.94-2.06 2.06-.94-2.06-.94-.94-2.06-.94 2.06-2.06.94zm-11 1L8.5 8.5l.94-2.06 2.06-.94-2.06-.94L8.5 2.5l-.94 2.06-2.06.94zm10 10l.94 2.06.94-2.06 2.06-.94-2.06-.94-.94-2.06-.94 2.06-2.06.94z\"/><path d=\"M17.41 7.96l-1.37-1.37c-.4-.4-.92-.59-1.43-.59-.52 0-1.04.2-1.43.59L10.3 9.45l-7.72 7.72c-.78.78-.78 2.05 0 2.83L4 21.41c.39.39.9.59 1.41.59.51 0 1.02-.2 1.41-.59l7.78-7.78 2.81-2.81c.8-.78.8-2.07 0-2.86zM5.41 20L4 18.59l7.72-7.72 1.47 1.35L5.41 20z\"/>\n",
              "  </svg>\n",
              "      </button>\n",
              "      \n",
              "  <style>\n",
              "    .colab-df-container {\n",
              "      display:flex;\n",
              "      flex-wrap:wrap;\n",
              "      gap: 12px;\n",
              "    }\n",
              "\n",
              "    .colab-df-convert {\n",
              "      background-color: #E8F0FE;\n",
              "      border: none;\n",
              "      border-radius: 50%;\n",
              "      cursor: pointer;\n",
              "      display: none;\n",
              "      fill: #1967D2;\n",
              "      height: 32px;\n",
              "      padding: 0 0 0 0;\n",
              "      width: 32px;\n",
              "    }\n",
              "\n",
              "    .colab-df-convert:hover {\n",
              "      background-color: #E2EBFA;\n",
              "      box-shadow: 0px 1px 2px rgba(60, 64, 67, 0.3), 0px 1px 3px 1px rgba(60, 64, 67, 0.15);\n",
              "      fill: #174EA6;\n",
              "    }\n",
              "\n",
              "    [theme=dark] .colab-df-convert {\n",
              "      background-color: #3B4455;\n",
              "      fill: #D2E3FC;\n",
              "    }\n",
              "\n",
              "    [theme=dark] .colab-df-convert:hover {\n",
              "      background-color: #434B5C;\n",
              "      box-shadow: 0px 1px 3px 1px rgba(0, 0, 0, 0.15);\n",
              "      filter: drop-shadow(0px 1px 2px rgba(0, 0, 0, 0.3));\n",
              "      fill: #FFFFFF;\n",
              "    }\n",
              "  </style>\n",
              "\n",
              "      <script>\n",
              "        const buttonEl =\n",
              "          document.querySelector('#df-6b2f4102-37a5-40a3-8164-1bd3295eff6a button.colab-df-convert');\n",
              "        buttonEl.style.display =\n",
              "          google.colab.kernel.accessAllowed ? 'block' : 'none';\n",
              "\n",
              "        async function convertToInteractive(key) {\n",
              "          const element = document.querySelector('#df-6b2f4102-37a5-40a3-8164-1bd3295eff6a');\n",
              "          const dataTable =\n",
              "            await google.colab.kernel.invokeFunction('convertToInteractive',\n",
              "                                                     [key], {});\n",
              "          if (!dataTable) return;\n",
              "\n",
              "          const docLinkHtml = 'Like what you see? Visit the ' +\n",
              "            '<a target=\"_blank\" href=https://colab.research.google.com/notebooks/data_table.ipynb>data table notebook</a>'\n",
              "            + ' to learn more about interactive tables.';\n",
              "          element.innerHTML = '';\n",
              "          dataTable['output_type'] = 'display_data';\n",
              "          await google.colab.output.renderOutput(dataTable, element);\n",
              "          const docLink = document.createElement('div');\n",
              "          docLink.innerHTML = docLinkHtml;\n",
              "          element.appendChild(docLink);\n",
              "        }\n",
              "      </script>\n",
              "    </div>\n",
              "  </div>\n",
              "  "
            ]
          },
          "metadata": {},
          "execution_count": 33
        }
      ]
    },
    {
      "cell_type": "code",
      "source": [
        "import seaborn as sns"
      ],
      "metadata": {
        "id": "8w_K5jS9UcG7"
      },
      "execution_count": null,
      "outputs": []
    },
    {
      "cell_type": "code",
      "source": [
        "sns.distplot(df)\n",
        "plt.show()"
      ],
      "metadata": {
        "colab": {
          "base_uri": "https://localhost:8080/",
          "height": 333
        },
        "id": "emZjTGsMWtW5",
        "outputId": "e4519f7f-f5c4-43b1-dbd2-1fdb4bd279b3"
      },
      "execution_count": null,
      "outputs": [
        {
          "output_type": "stream",
          "name": "stderr",
          "text": [
            "/usr/local/lib/python3.7/dist-packages/seaborn/distributions.py:2619: FutureWarning: `distplot` is a deprecated function and will be removed in a future version. Please adapt your code to use either `displot` (a figure-level function with similar flexibility) or `histplot` (an axes-level function for histograms).\n",
            "  warnings.warn(msg, FutureWarning)\n"
          ]
        },
        {
          "output_type": "display_data",
          "data": {
            "text/plain": [
              "<Figure size 432x288 with 1 Axes>"
            ],
            "image/png": "[encoded data removed]"
          },
          "metadata": {
            "needs_background": "light"
          }
        }
      ]
    },
    {
      "cell_type": "code",
      "source": [
        "normalVar = pd.DataFrame(np.random.normal(0,10,70))\n",
        "normalVar.columns = ['Price']\n",
        "normalVar.head()normalVar = pd.DataFrame(np.random.normal(0,10,70))\n",
        "normalVar.columns = ['Price']\n",
        "normalVar.head()"
      ],
      "metadata": {
        "colab": {
          "base_uri": "https://localhost:8080/",
          "height": 206
        },
        "id": "OvL4q1lGWv_I",
        "outputId": "3fca2dd1-dccb-45c1-f154-771940478454"
      },
      "execution_count": null,
      "outputs": [
        {
          "output_type": "execute_result",
          "data": {
            "text/plain": [
              "       Price\n",
              "0  -3.746269\n",
              "1   0.521407\n",
              "2  11.499800\n",
              "3  -4.326258\n",
              "4  11.718445"
            ],
            "text/html": [
              "\n",
              "  <div id=\"df-bd72328f-0fab-4673-98de-d1de343e8565\">\n",
              "    <div class=\"colab-df-container\">\n",
              "      <div>\n",
              "<style scoped>\n",
              "    .dataframe tbody tr th:only-of-type {\n",
              "        vertical-align: middle;\n",
              "    }\n",
              "\n",
              "    .dataframe tbody tr th {\n",
              "        vertical-align: top;\n",
              "    }\n",
              "\n",
              "    .dataframe thead th {\n",
              "        text-align: right;\n",
              "    }\n",
              "</style>\n",
              "<table border=\"1\" class=\"dataframe\">\n",
              "  <thead>\n",
              "    <tr style=\"text-align: right;\">\n",
              "      <th></th>\n",
              "      <th>Price</th>\n",
              "    </tr>\n",
              "  </thead>\n",
              "  <tbody>\n",
              "    <tr>\n",
              "      <th>0</th>\n",
              "      <td>-3.746269</td>\n",
              "    </tr>\n",
              "    <tr>\n",
              "      <th>1</th>\n",
              "      <td>0.521407</td>\n",
              "    </tr>\n",
              "    <tr>\n",
              "      <th>2</th>\n",
              "      <td>11.499800</td>\n",
              "    </tr>\n",
              "    <tr>\n",
              "      <th>3</th>\n",
              "      <td>-4.326258</td>\n",
              "    </tr>\n",
              "    <tr>\n",
              "      <th>4</th>\n",
              "      <td>11.718445</td>\n",
              "    </tr>\n",
              "  </tbody>\n",
              "</table>\n",
              "</div>\n",
              "      <button class=\"colab-df-convert\" onclick=\"convertToInteractive('df-bd72328f-0fab-4673-98de-d1de343e8565')\"\n",
              "              title=\"Convert this dataframe to an interactive table.\"\n",
              "              style=\"display:none;\">\n",
              "        \n",
              "  <svg xmlns=\"http://www.w3.org/2000/svg\" height=\"24px\"viewBox=\"0 0 24 24\"\n",
              "       width=\"24px\">\n",
              "    <path d=\"M0 0h24v24H0V0z\" fill=\"none\"/>\n",
              "    <path d=\"M18.56 5.44l.94 2.06.94-2.06 2.06-.94-2.06-.94-.94-2.06-.94 2.06-2.06.94zm-11 1L8.5 8.5l.94-2.06 2.06-.94-2.06-.94L8.5 2.5l-.94 2.06-2.06.94zm10 10l.94 2.06.94-2.06 2.06-.94-2.06-.94-.94-2.06-.94 2.06-2.06.94z\"/><path d=\"M17.41 7.96l-1.37-1.37c-.4-.4-.92-.59-1.43-.59-.52 0-1.04.2-1.43.59L10.3 9.45l-7.72 7.72c-.78.78-.78 2.05 0 2.83L4 21.41c.39.39.9.59 1.41.59.51 0 1.02-.2 1.41-.59l7.78-7.78 2.81-2.81c.8-.78.8-2.07 0-2.86zM5.41 20L4 18.59l7.72-7.72 1.47 1.35L5.41 20z\"/>\n",
              "  </svg>\n",
              "      </button>\n",
              "      \n",
              "  <style>\n",
              "    .colab-df-container {\n",
              "      display:flex;\n",
              "      flex-wrap:wrap;\n",
              "      gap: 12px;\n",
              "    }\n",
              "\n",
              "    .colab-df-convert {\n",
              "      background-color: #E8F0FE;\n",
              "      border: none;\n",
              "      border-radius: 50%;\n",
              "      cursor: pointer;\n",
              "      display: none;\n",
              "      fill: #1967D2;\n",
              "      height: 32px;\n",
              "      padding: 0 0 0 0;\n",
              "      width: 32px;\n",
              "    }\n",
              "\n",
              "    .colab-df-convert:hover {\n",
              "      background-color: #E2EBFA;\n",
              "      box-shadow: 0px 1px 2px rgba(60, 64, 67, 0.3), 0px 1px 3px 1px rgba(60, 64, 67, 0.15);\n",
              "      fill: #174EA6;\n",
              "    }\n",
              "\n",
              "    [theme=dark] .colab-df-convert {\n",
              "      background-color: #3B4455;\n",
              "      fill: #D2E3FC;\n",
              "    }\n",
              "\n",
              "    [theme=dark] .colab-df-convert:hover {\n",
              "      background-color: #434B5C;\n",
              "      box-shadow: 0px 1px 3px 1px rgba(0, 0, 0, 0.15);\n",
              "      filter: drop-shadow(0px 1px 2px rgba(0, 0, 0, 0.3));\n",
              "      fill: #FFFFFF;\n",
              "    }\n",
              "  </style>\n",
              "\n",
              "      <script>\n",
              "        const buttonEl =\n",
              "          document.querySelector('#df-bd72328f-0fab-4673-98de-d1de343e8565 button.colab-df-convert');\n",
              "        buttonEl.style.display =\n",
              "          google.colab.kernel.accessAllowed ? 'block' : 'none';\n",
              "\n",
              "        async function convertToInteractive(key) {\n",
              "          const element = document.querySelector('#df-bd72328f-0fab-4673-98de-d1de343e8565');\n",
              "          const dataTable =\n",
              "            await google.colab.kernel.invokeFunction('convertToInteractive',\n",
              "                                                     [key], {});\n",
              "          if (!dataTable) return;\n",
              "\n",
              "          const docLinkHtml = 'Like what you see? Visit the ' +\n",
              "            '<a target=\"_blank\" href=https://colab.research.google.com/notebooks/data_table.ipynb>data table notebook</a>'\n",
              "            + ' to learn more about interactive tables.';\n",
              "          element.innerHTML = '';\n",
              "          dataTable['output_type'] = 'display_data';\n",
              "          await google.colab.output.renderOutput(dataTable, element);\n",
              "          const docLink = document.createElement('div');\n",
              "          docLink.innerHTML = docLinkHtml;\n",
              "          element.appendChild(docLink);\n",
              "        }\n",
              "      </script>\n",
              "    </div>\n",
              "  </div>\n",
              "  "
            ]
          },
          "metadata": {},
          "execution_count": 36
        }
      ]
    },
    {
      "cell_type": "code",
      "source": [
        "sns.distplot(normalVar)\n",
        "plt.show()"
      ],
      "metadata": {
        "colab": {
          "base_uri": "https://localhost:8080/",
          "height": 322
        },
        "id": "NtVG2E3gW0Yv",
        "outputId": "029dfd28-9f37-4683-bd38-cd19b6bf92a6"
      },
      "execution_count": null,
      "outputs": [
        {
          "output_type": "stream",
          "name": "stderr",
          "text": [
            "/usr/local/lib/python3.7/dist-packages/seaborn/distributions.py:2619: FutureWarning: `distplot` is a deprecated function and will be removed in a future version. Please adapt your code to use either `displot` (a figure-level function with similar flexibility) or `histplot` (an axes-level function for histograms).\n",
            "  warnings.warn(msg, FutureWarning)\n"
          ]
        },
        {
          "output_type": "display_data",
          "data": {
            "text/plain": [
              "<Figure size 432x288 with 1 Axes>"
            ],
            "image/png": "[encoded data removed]"
          },
          "metadata": {
            "needs_background": "light"
          }
        }
      ]
    },
    {
      "cell_type": "code",
      "source": [
        "from scipy.stats import normaltest\n",
        "stats, p = normaltest(normalVar)\n",
        "print(stats, p)\n",
        "if p > 0.05:\n",
        "    print (\"Rozkład wygląda na normalny\")"
      ],
      "metadata": {
        "colab": {
          "base_uri": "https://localhost:8080/"
        },
        "id": "T8dUmiaxW24V",
        "outputId": "2aedc076-7e52-45e6-f35b-4d38dde81d3f"
      },
      "execution_count": null,
      "outputs": [
        {
          "output_type": "stream",
          "name": "stdout",
          "text": [
            "[1.48376295] [0.47621708]\n",
            "Rozkład wygląda na normalny\n"
          ]
        }
      ]
    },
    {
      "cell_type": "code",
      "source": [
        "stats, p = normaltest(df['Price'])\n",
        "print(stats, p)\n",
        "if p > 0.05:\n",
        "    print (\"Rozkład wygląda na normalny\")"
      ],
      "metadata": {
        "colab": {
          "base_uri": "https://localhost:8080/"
        },
        "id": "EDBZ3HRAW7Oq",
        "outputId": "a1e4ec11-fec8-4dba-960a-1feda312ad14"
      },
      "execution_count": null,
      "outputs": [
        {
          "output_type": "stream",
          "name": "stdout",
          "text": [
            "8.737716856730017 0.012665691111981443\n"
          ]
        }
      ]
    },
    {
      "cell_type": "code",
      "source": [
        "normalVar = pd.DataFrame(np.random.normal(mean['Price'],sigma['Price'],50))\n",
        "normalVar.columns = ['Price']\n",
        "normalVar.head()"
      ],
      "metadata": {
        "colab": {
          "base_uri": "https://localhost:8080/",
          "height": 206
        },
        "id": "HKATAsGGYIb6",
        "outputId": "5a19dba0-cbb5-461c-ad3d-8804c48e5d0a"
      },
      "execution_count": null,
      "outputs": [
        {
          "output_type": "execute_result",
          "data": {
            "text/plain": [
              "           Price\n",
              "0  478295.018395\n",
              "1  283134.488719\n",
              "2  191111.735864\n",
              "3  263691.589764\n",
              "4  386519.412598"
            ],
            "text/html": [
              "\n",
              "  <div id=\"df-7f22ab86-333f-4b10-84a2-2f7ec11a464a\">\n",
              "    <div class=\"colab-df-container\">\n",
              "      <div>\n",
              "<style scoped>\n",
              "    .dataframe tbody tr th:only-of-type {\n",
              "        vertical-align: middle;\n",
              "    }\n",
              "\n",
              "    .dataframe tbody tr th {\n",
              "        vertical-align: top;\n",
              "    }\n",
              "\n",
              "    .dataframe thead th {\n",
              "        text-align: right;\n",
              "    }\n",
              "</style>\n",
              "<table border=\"1\" class=\"dataframe\">\n",
              "  <thead>\n",
              "    <tr style=\"text-align: right;\">\n",
              "      <th></th>\n",
              "      <th>Price</th>\n",
              "    </tr>\n",
              "  </thead>\n",
              "  <tbody>\n",
              "    <tr>\n",
              "      <th>0</th>\n",
              "      <td>478295.018395</td>\n",
              "    </tr>\n",
              "    <tr>\n",
              "      <th>1</th>\n",
              "      <td>283134.488719</td>\n",
              "    </tr>\n",
              "    <tr>\n",
              "      <th>2</th>\n",
              "      <td>191111.735864</td>\n",
              "    </tr>\n",
              "    <tr>\n",
              "      <th>3</th>\n",
              "      <td>263691.589764</td>\n",
              "    </tr>\n",
              "    <tr>\n",
              "      <th>4</th>\n",
              "      <td>386519.412598</td>\n",
              "    </tr>\n",
              "  </tbody>\n",
              "</table>\n",
              "</div>\n",
              "      <button class=\"colab-df-convert\" onclick=\"convertToInteractive('df-7f22ab86-333f-4b10-84a2-2f7ec11a464a')\"\n",
              "              title=\"Convert this dataframe to an interactive table.\"\n",
              "              style=\"display:none;\">\n",
              "        \n",
              "  <svg xmlns=\"http://www.w3.org/2000/svg\" height=\"24px\"viewBox=\"0 0 24 24\"\n",
              "       width=\"24px\">\n",
              "    <path d=\"M0 0h24v24H0V0z\" fill=\"none\"/>\n",
              "    <path d=\"M18.56 5.44l.94 2.06.94-2.06 2.06-.94-2.06-.94-.94-2.06-.94 2.06-2.06.94zm-11 1L8.5 8.5l.94-2.06 2.06-.94-2.06-.94L8.5 2.5l-.94 2.06-2.06.94zm10 10l.94 2.06.94-2.06 2.06-.94-2.06-.94-.94-2.06-.94 2.06-2.06.94z\"/><path d=\"M17.41 7.96l-1.37-1.37c-.4-.4-.92-.59-1.43-.59-.52 0-1.04.2-1.43.59L10.3 9.45l-7.72 7.72c-.78.78-.78 2.05 0 2.83L4 21.41c.39.39.9.59 1.41.59.51 0 1.02-.2 1.41-.59l7.78-7.78 2.81-2.81c.8-.78.8-2.07 0-2.86zM5.41 20L4 18.59l7.72-7.72 1.47 1.35L5.41 20z\"/>\n",
              "  </svg>\n",
              "      </button>\n",
              "      \n",
              "  <style>\n",
              "    .colab-df-container {\n",
              "      display:flex;\n",
              "      flex-wrap:wrap;\n",
              "      gap: 12px;\n",
              "    }\n",
              "\n",
              "    .colab-df-convert {\n",
              "      background-color: #E8F0FE;\n",
              "      border: none;\n",
              "      border-radius: 50%;\n",
              "      cursor: pointer;\n",
              "      display: none;\n",
              "      fill: #1967D2;\n",
              "      height: 32px;\n",
              "      padding: 0 0 0 0;\n",
              "      width: 32px;\n",
              "    }\n",
              "\n",
              "    .colab-df-convert:hover {\n",
              "      background-color: #E2EBFA;\n",
              "      box-shadow: 0px 1px 2px rgba(60, 64, 67, 0.3), 0px 1px 3px 1px rgba(60, 64, 67, 0.15);\n",
              "      fill: #174EA6;\n",
              "    }\n",
              "\n",
              "    [theme=dark] .colab-df-convert {\n",
              "      background-color: #3B4455;\n",
              "      fill: #D2E3FC;\n",
              "    }\n",
              "\n",
              "    [theme=dark] .colab-df-convert:hover {\n",
              "      background-color: #434B5C;\n",
              "      box-shadow: 0px 1px 3px 1px rgba(0, 0, 0, 0.15);\n",
              "      filter: drop-shadow(0px 1px 2px rgba(0, 0, 0, 0.3));\n",
              "      fill: #FFFFFF;\n",
              "    }\n",
              "  </style>\n",
              "\n",
              "      <script>\n",
              "        const buttonEl =\n",
              "          document.querySelector('#df-7f22ab86-333f-4b10-84a2-2f7ec11a464a button.colab-df-convert');\n",
              "        buttonEl.style.display =\n",
              "          google.colab.kernel.accessAllowed ? 'block' : 'none';\n",
              "\n",
              "        async function convertToInteractive(key) {\n",
              "          const element = document.querySelector('#df-7f22ab86-333f-4b10-84a2-2f7ec11a464a');\n",
              "          const dataTable =\n",
              "            await google.colab.kernel.invokeFunction('convertToInteractive',\n",
              "                                                     [key], {});\n",
              "          if (!dataTable) return;\n",
              "\n",
              "          const docLinkHtml = 'Like what you see? Visit the ' +\n",
              "            '<a target=\"_blank\" href=https://colab.research.google.com/notebooks/data_table.ipynb>data table notebook</a>'\n",
              "            + ' to learn more about interactive tables.';\n",
              "          element.innerHTML = '';\n",
              "          dataTable['output_type'] = 'display_data';\n",
              "          await google.colab.output.renderOutput(dataTable, element);\n",
              "          const docLink = document.createElement('div');\n",
              "          docLink.innerHTML = docLinkHtml;\n",
              "          element.appendChild(docLink);\n",
              "        }\n",
              "      </script>\n",
              "    </div>\n",
              "  </div>\n",
              "  "
            ]
          },
          "metadata": {},
          "execution_count": 40
        }
      ]
    },
    {
      "cell_type": "code",
      "source": [
        "stats, p = normaltest(df['Size'])\n",
        "print(stats, p)\n",
        "if p > 0.05:\n",
        "    print (\"Rozkład wygląda na normalny\")"
      ],
      "metadata": {
        "colab": {
          "base_uri": "https://localhost:8080/"
        },
        "id": "INqA-91EYUmH",
        "outputId": "1516c67c-3cbd-4157-d61d-c6a6616ee3ea"
      },
      "execution_count": null,
      "outputs": [
        {
          "output_type": "stream",
          "name": "stdout",
          "text": [
            "16.522646706415983 0.00025831692040643073\n"
          ]
        }
      ]
    },
    {
      "cell_type": "code",
      "source": [
        "from sklearn.model_selection import train_test_split"
      ],
      "metadata": {
        "id": "DgjUKxWkZfWU"
      },
      "execution_count": null,
      "outputs": []
    },
    {
      "cell_type": "code",
      "source": [
        "from sklearn.pipeline import Pipeline"
      ],
      "metadata": {
        "id": "jvoLKk_NbZHw"
      },
      "execution_count": null,
      "outputs": []
    },
    {
      "cell_type": "code",
      "source": [
        "from sklearn.impute import SimpleImputer"
      ],
      "metadata": {
        "id": "8Fqir8mxhjPT"
      },
      "execution_count": null,
      "outputs": []
    },
    {
      "cell_type": "code",
      "source": [
        "from sklearn.compose import ColumnTransformer"
      ],
      "metadata": {
        "id": "5nN5mfc_h_lM"
      },
      "execution_count": null,
      "outputs": []
    },
    {
      "cell_type": "code",
      "source": [
        "from sklearn.base import BaseEstimator, TransformerMixin"
      ],
      "metadata": {
        "id": "1jsTjKRPoqLG"
      },
      "execution_count": null,
      "outputs": []
    },
    {
      "cell_type": "code",
      "source": [
        "from sklearn.preprocessing import StandardScaler"
      ],
      "metadata": {
        "id": "04diy6VJ2VWK"
      },
      "execution_count": null,
      "outputs": []
    },
    {
      "cell_type": "code",
      "source": [
        "from sklearn.linear_model import LinearRegression"
      ],
      "metadata": {
        "id": "_xS6wRu76x_3"
      },
      "execution_count": null,
      "outputs": []
    },
    {
      "cell_type": "code",
      "source": [
        "from sklearn.metrics import r2_score"
      ],
      "metadata": {
        "id": "-wJbdj9o-DVe"
      },
      "execution_count": null,
      "outputs": []
    },
    {
      "cell_type": "code",
      "source": [],
      "metadata": {
        "id": "lI4GAZ4B-D_s"
      },
      "execution_count": null,
      "outputs": []
    },
    {
      "cell_type": "code",
      "source": [
        "X = df[['Size', 'Bedrooms']]"
      ],
      "metadata": {
        "id": "XBWVv5R0aNNl"
      },
      "execution_count": null,
      "outputs": []
    },
    {
      "cell_type": "code",
      "source": [
        "y = df['Price']"
      ],
      "metadata": {
        "id": "G19RwCoFaV2N"
      },
      "execution_count": null,
      "outputs": []
    },
    {
      "cell_type": "code",
      "source": [
        "X_temp, X_test, y_temp, y_test = train_test_split(X, y, test_size =0.2, random_state = 333)"
      ],
      "metadata": {
        "id": "YH0DdSONaXvF"
      },
      "execution_count": null,
      "outputs": []
    },
    {
      "cell_type": "code",
      "source": [
        "X_train, X_val, y_train, y_val = train_test_split(X_temp, y_temp, test_size = 0.25, random_state=333)"
      ],
      "metadata": {
        "id": "3TjXaEKRadRe"
      },
      "execution_count": null,
      "outputs": []
    },
    {
      "cell_type": "code",
      "source": [
        "cols_numerical = ['Size']"
      ],
      "metadata": {
        "id": "qcwKa-cLaFjk"
      },
      "execution_count": null,
      "outputs": []
    },
    {
      "cell_type": "code",
      "source": [
        "class PortlandHousingTransformer(BaseEstimator, TransformerMixin):\n",
        "  def fit(self, X, y=None):\n",
        "    print(X['Size'].quantile(0.95))\n",
        "    self.sizep95 = X['Size'].quantile(0.95)\n",
        "    self.sizep05 = X['Size'].quantile(0.05)\n",
        "    self.sizemean = X['Size'].mean()\n",
        "\n",
        "    return self\n",
        "  \n",
        "  def transform(self, X, y=None):\n",
        "\n",
        "    if X['Size'] > self.sizep95 | X['Size'] < self.sizep05:\n",
        "      X['Size'] = self.sizemean\n",
        "    return X"
      ],
      "metadata": {
        "id": "yIJAPw24bV3H"
      },
      "execution_count": null,
      "outputs": []
    },
    {
      "cell_type": "code",
      "source": [
        "transformer_numerical = Pipeline(steps = [\n",
        "    ('imputer', SimpleImputer(strategy = 'mean')),\n",
        "    ('outlier', PortlandHousingTransformer() )\n",
        "])"
      ],
      "metadata": {
        "id": "LEp9Nd8oa5WA"
      },
      "execution_count": null,
      "outputs": []
    },
    {
      "cell_type": "code",
      "source": [
        "preprocessor = ColumnTransformer(transformers =[\n",
        "    ('numerical', transformer_numerical, cols_numerical)\n",
        "])"
      ],
      "metadata": {
        "id": "ZpjgPYBahuZT"
      },
      "execution_count": null,
      "outputs": []
    },
    {
      "cell_type": "code",
      "source": [
        "pipe = Pipeline(steps =[\n",
        "    ('preprocessor', preprocessor)\n",
        "])\n"
      ],
      "metadata": {
        "id": "DkpaSd_XivU_"
      },
      "execution_count": null,
      "outputs": []
    },
    {
      "cell_type": "code",
      "source": [
        "pipe.fit(X_train, y_train)"
      ],
      "metadata": {
        "colab": {
          "base_uri": "https://localhost:8080/"
        },
        "id": "mIR1qJe5jTiT",
        "outputId": "400e0629-c7b6-4e2a-a6c1-c308c802a3c7"
      },
      "execution_count": null,
      "outputs": [
        {
          "output_type": "execute_result",
          "data": {
            "text/plain": [
              "Pipeline(steps=[('preprocessor',\n",
              "                 ColumnTransformer(transformers=[('numerical',\n",
              "                                                  Pipeline(steps=[('outlier',\n",
              "                                                                   PortlandHousingTransformer()),\n",
              "                                                                  ('imputer',\n",
              "                                                                   SimpleImputer())]),\n",
              "                                                  ['Size'])]))])"
            ]
          },
          "metadata": {},
          "execution_count": 85
        }
      ]
    },
    {
      "cell_type": "code",
      "source": [
        "pipe.fit(X_train, y_train)"
      ],
      "metadata": {
        "colab": {
          "base_uri": "https://localhost:8080/"
        },
        "id": "ismCdEk8vkxR",
        "outputId": "55d018ec-c8f8-41b3-c1ac-d04d9975b9ca"
      },
      "execution_count": null,
      "outputs": [
        {
          "output_type": "execute_result",
          "data": {
            "text/plain": [
              "Pipeline(steps=[('preprocessor',\n",
              "                 ColumnTransformer(transformers=[('numerical',\n",
              "                                                  Pipeline(steps=[('imputer',\n",
              "                                                                   SimpleImputer())]),\n",
              "                                                  ['Size'])]))])"
            ]
          },
          "metadata": {},
          "execution_count": 72
        }
      ]
    },
    {
      "cell_type": "code",
      "source": [],
      "metadata": {
        "id": "tWaZlPaZ0RP2"
      },
      "execution_count": null,
      "outputs": []
    },
    {
      "cell_type": "code",
      "source": [
        "pipe.transform(X_train)"
      ],
      "metadata": {
        "colab": {
          "base_uri": "https://localhost:8080/"
        },
        "id": "U9F58xxPjWgI",
        "outputId": "e37452f2-4d11-485c-8f36-d79ab633663c"
      },
      "execution_count": null,
      "outputs": [
        {
          "output_type": "execute_result",
          "data": {
            "text/plain": [
              "array([[1427.],\n",
              "       [1320.],\n",
              "       [1100.],\n",
              "       [1494.],\n",
              "       [1437.],\n",
              "       [4215.],\n",
              "       [1600.],\n",
              "       [3031.],\n",
              "       [4478.],\n",
              "       [1000.],\n",
              "       [2040.],\n",
              "       [3890.],\n",
              "       [1890.],\n",
              "       [2637.],\n",
              "       [2300.],\n",
              "       [1458.],\n",
              "       [ 852.],\n",
              "       [1664.],\n",
              "       [1852.],\n",
              "       [1380.],\n",
              "       [2200.],\n",
              "       [2162.],\n",
              "       [2400.],\n",
              "       [1962.],\n",
              "       [2132.],\n",
              "       [1239.],\n",
              "       [2526.]])"
            ]
          },
          "metadata": {},
          "execution_count": 66
        }
      ]
    },
    {
      "cell_type": "code",
      "source": [
        "pipe.transform(X_val)"
      ],
      "metadata": {
        "colab": {
          "base_uri": "https://localhost:8080/"
        },
        "id": "krB-daBBuZ2C",
        "outputId": "ab03e0fd-a2de-4e0f-d6af-1706d87fc03e"
      },
      "execution_count": null,
      "outputs": [
        {
          "output_type": "execute_result",
          "data": {
            "text/plain": [
              "array([[2104.],\n",
              "       [2567.],\n",
              "       [1767.],\n",
              "       [1236.],\n",
              "       [1940.],\n",
              "       [1839.],\n",
              "       [2609.],\n",
              "       [1268.],\n",
              "       [2238.],\n",
              "       [1416.]])"
            ]
          },
          "metadata": {},
          "execution_count": 68
        }
      ]
    },
    {
      "cell_type": "code",
      "source": [
        "pipe.transform(X_test)"
      ],
      "metadata": {
        "colab": {
          "base_uri": "https://localhost:8080/"
        },
        "id": "P0ZH71Rculi_",
        "outputId": "28788808-1f00-4a45-a29c-6d4248501b6c"
      },
      "execution_count": null,
      "outputs": [
        {
          "output_type": "execute_result",
          "data": {
            "text/plain": [
              "array([[1888.],\n",
              "       [1534.],\n",
              "       [1203.],\n",
              "       [2000.],\n",
              "       [1200.],\n",
              "       [3000.],\n",
              "       [1811.],\n",
              "       [3137.],\n",
              "       [1604.],\n",
              "       [1985.]])"
            ]
          },
          "metadata": {},
          "execution_count": 69
        }
      ]
    },
    {
      "cell_type": "code",
      "source": [
        "preprocessor"
      ],
      "metadata": {
        "colab": {
          "base_uri": "https://localhost:8080/"
        },
        "id": "gxhW-50S0R_D",
        "outputId": "f2cfe46f-2c9e-4082-bf07-8ba7ebdba0ce"
      },
      "execution_count": null,
      "outputs": [
        {
          "output_type": "execute_result",
          "data": {
            "text/plain": [
              "ColumnTransformer(transformers=[('numerical',\n",
              "                                 Pipeline(steps=[('imputer', SimpleImputer())]),\n",
              "                                 ['Size'])])"
            ]
          },
          "metadata": {},
          "execution_count": 73
        }
      ]
    },
    {
      "cell_type": "code",
      "source": [
        "pipe.fit(X_train, y_train)"
      ],
      "metadata": {
        "colab": {
          "base_uri": "https://localhost:8080/"
        },
        "id": "kjSvk08x0UkI",
        "outputId": "b061882c-2d94-4d6c-fbbf-2710a0cfd01b"
      },
      "execution_count": null,
      "outputs": [
        {
          "output_type": "execute_result",
          "data": {
            "text/plain": [
              "Pipeline(steps=[('preprocessor',\n",
              "                 ColumnTransformer(transformers=[('numerical',\n",
              "                                                  Pipeline(steps=[('imputer',\n",
              "                                                                   SimpleImputer())]),\n",
              "                                                  ['Size'])]))])"
            ]
          },
          "metadata": {},
          "execution_count": 74
        }
      ]
    },
    {
      "cell_type": "code",
      "source": [
        "class PortlandHousingTransformer(BaseEstimator, TransformerMixin):\n",
        "  def fit(self, X, y=None):\n",
        "    self.sizep95 = X['Size'].quantile(0.95)\n",
        "    self.sizep05 = X['Size'].quantile(0.05)\n",
        "    self.sizemean = X['Size'].mean()\n",
        "   \n",
        "    return self\n",
        "  \n",
        "  def transform(self, X, y=None):\n",
        "    X[(X['Size'] > self.sizep95) | (X['Size'] < self.sizep05)] = self.sizemean \n",
        "    \n",
        "    return X"
      ],
      "metadata": {
        "id": "TU784XBH0ZC8"
      },
      "execution_count": null,
      "outputs": []
    },
    {
      "cell_type": "code",
      "source": [
        "transformer_numerical = Pipeline(steps = [\n",
        "    ('outlier', PortlandHousingTransformer() ),\n",
        "    ('imputer', SimpleImputer(strategy = 'mean')),\n",
        "    ('scaler', StandardScaler())\n",
        "\n",
        "\n",
        "])"
      ],
      "metadata": {
        "id": "st6ySUok0boq"
      },
      "execution_count": null,
      "outputs": []
    },
    {
      "cell_type": "code",
      "source": [
        "preprocessor = ColumnTransformer(transformers =[\n",
        "    ('numerical', transformer_numerical, cols_numerical),\n",
        "])\n"
      ],
      "metadata": {
        "id": "EYjZwc8O0ceH"
      },
      "execution_count": null,
      "outputs": []
    },
    {
      "cell_type": "code",
      "source": [
        "pipe = Pipeline(steps =[\n",
        "    ('preprocessor', preprocessor)\n",
        "])"
      ],
      "metadata": {
        "id": "qaAV6ua-0fWB"
      },
      "execution_count": null,
      "outputs": []
    },
    {
      "cell_type": "code",
      "source": [
        "preprocessor"
      ],
      "metadata": {
        "colab": {
          "base_uri": "https://localhost:8080/"
        },
        "id": "j6jDr6CP0heH",
        "outputId": "a7fb5c3b-1f45-405b-e303-9ef6e3fc0a6d"
      },
      "execution_count": null,
      "outputs": [
        {
          "output_type": "execute_result",
          "data": {
            "text/plain": [
              "ColumnTransformer(transformers=[('numerical',\n",
              "                                 Pipeline(steps=[('outlier',\n",
              "                                                  PortlandHousingTransformer()),\n",
              "                                                 ('imputer', SimpleImputer())]),\n",
              "                                 ['Size'])])"
            ]
          },
          "metadata": {},
          "execution_count": 79
        }
      ]
    },
    {
      "cell_type": "code",
      "source": [
        "pipe.fit(X_train, y_train)"
      ],
      "metadata": {
        "colab": {
          "base_uri": "https://localhost:8080/"
        },
        "id": "UvOVSHNj0jTG",
        "outputId": "abac968c-cf5f-4a9e-9a41-49f4c6b0cdfc"
      },
      "execution_count": null,
      "outputs": [
        {
          "output_type": "execute_result",
          "data": {
            "text/plain": [
              "Pipeline(steps=[('preprocessor',\n",
              "                 ColumnTransformer(transformers=[('numerical',\n",
              "                                                  Pipeline(steps=[('outlier',\n",
              "                                                                   PortlandHousingTransformer()),\n",
              "                                                                  ('imputer',\n",
              "                                                                   SimpleImputer())]),\n",
              "                                                  ['Size'])]))])"
            ]
          },
          "metadata": {},
          "execution_count": 80
        }
      ]
    },
    {
      "cell_type": "code",
      "source": [
        "pipe.transform(X_train)"
      ],
      "metadata": {
        "colab": {
          "base_uri": "https://localhost:8080/"
        },
        "id": "YDaiz4Nu0lLp",
        "outputId": "86d2d147-7c40-4905-ad57-fef647bbe5c3"
      },
      "execution_count": null,
      "outputs": [
        {
          "output_type": "execute_result",
          "data": {
            "text/plain": [
              "array([[1427.        ],\n",
              "       [1320.        ],\n",
              "       [1100.        ],\n",
              "       [1494.        ],\n",
              "       [1437.        ],\n",
              "       [2062.44444444],\n",
              "       [1600.        ],\n",
              "       [3031.        ],\n",
              "       [2062.44444444],\n",
              "       [2062.44444444],\n",
              "       [2040.        ],\n",
              "       [3890.        ],\n",
              "       [1890.        ],\n",
              "       [2637.        ],\n",
              "       [2300.        ],\n",
              "       [1458.        ],\n",
              "       [2062.44444444],\n",
              "       [1664.        ],\n",
              "       [1852.        ],\n",
              "       [1380.        ],\n",
              "       [2200.        ],\n",
              "       [2162.        ],\n",
              "       [2400.        ],\n",
              "       [1962.        ],\n",
              "       [2132.        ],\n",
              "       [1239.        ],\n",
              "       [2526.        ]])"
            ]
          },
          "metadata": {},
          "execution_count": 94
        }
      ]
    },
    {
      "cell_type": "code",
      "source": [
        "pipe.transform(X_val)"
      ],
      "metadata": {
        "colab": {
          "base_uri": "https://localhost:8080/"
        },
        "id": "UbmANqV-0pvf",
        "outputId": "d5966d25-2744-4962-fe2a-0c166a604ddc"
      },
      "execution_count": null,
      "outputs": [
        {
          "output_type": "execute_result",
          "data": {
            "text/plain": [
              "array([[2104.],\n",
              "       [2567.],\n",
              "       [1767.],\n",
              "       [1236.],\n",
              "       [1940.],\n",
              "       [1839.],\n",
              "       [2609.],\n",
              "       [1268.],\n",
              "       [2238.],\n",
              "       [1416.]])"
            ]
          },
          "metadata": {},
          "execution_count": 93
        }
      ]
    },
    {
      "cell_type": "code",
      "source": [
        "pipe.transform(X_test)"
      ],
      "metadata": {
        "colab": {
          "base_uri": "https://localhost:8080/"
        },
        "id": "jUt6bNRY0roa",
        "outputId": "e48c046b-58ca-4075-85d2-c3dcbf01346f"
      },
      "execution_count": null,
      "outputs": [
        {
          "output_type": "execute_result",
          "data": {
            "text/plain": [
              "array([[1888.],\n",
              "       [1534.],\n",
              "       [1203.],\n",
              "       [2000.],\n",
              "       [1200.],\n",
              "       [3000.],\n",
              "       [1811.],\n",
              "       [3137.],\n",
              "       [1604.],\n",
              "       [1985.]])"
            ]
          },
          "metadata": {},
          "execution_count": 83
        }
      ]
    },
    {
      "cell_type": "code",
      "source": [
        "pipe.transform(X_train)"
      ],
      "metadata": {
        "colab": {
          "base_uri": "https://localhost:8080/"
        },
        "id": "6TOoENoM0uSn",
        "outputId": "962d012d-b981-4d66-cc77-f1e549cfca52"
      },
      "execution_count": null,
      "outputs": [
        {
          "output_type": "execute_result",
          "data": {
            "text/plain": [
              "array([[1427.        ],\n",
              "       [1320.        ],\n",
              "       [1100.        ],\n",
              "       [1494.        ],\n",
              "       [1437.        ],\n",
              "       [2062.44444444],\n",
              "       [1600.        ],\n",
              "       [3031.        ],\n",
              "       [2062.44444444],\n",
              "       [2062.44444444],\n",
              "       [2040.        ],\n",
              "       [3890.        ],\n",
              "       [1890.        ],\n",
              "       [2637.        ],\n",
              "       [2300.        ],\n",
              "       [1458.        ],\n",
              "       [2062.44444444],\n",
              "       [1664.        ],\n",
              "       [1852.        ],\n",
              "       [1380.        ],\n",
              "       [2200.        ],\n",
              "       [2162.        ],\n",
              "       [2400.        ],\n",
              "       [1962.        ],\n",
              "       [2132.        ],\n",
              "       [1239.        ],\n",
              "       [2526.        ]])"
            ]
          },
          "metadata": {},
          "execution_count": 97
        }
      ]
    },
    {
      "cell_type": "code",
      "source": [
        "class PortlandHousingTransformer(BaseEstimator, TransformerMixin):\n",
        "  def fit(self, X, y=None):\n",
        "    self.sizep95 = X['Size'].quantile(0.95)\n",
        "    self.sizep05 = X['Size'].quantile(0.05)\n",
        "    self.sizemean = X['Size'].mean()\n",
        "   \n",
        "    return self\n",
        "  \n",
        "  def transform(self, X, y=None):\n",
        "    X[(X['Size'] > self.sizep95) | (X['Size'] < self.sizep05)] = self.sizemean \n",
        "    \n",
        "    return X"
      ],
      "metadata": {
        "id": "4CiLQVhG4cTS"
      },
      "execution_count": null,
      "outputs": []
    },
    {
      "cell_type": "code",
      "source": [
        "cols_numerical = ['Size']"
      ],
      "metadata": {
        "id": "SbZcPHg00sUu"
      },
      "execution_count": null,
      "outputs": []
    },
    {
      "cell_type": "code",
      "source": [
        "cols_categorical  = ['Bedrooms'] "
      ],
      "metadata": {
        "id": "8ySsLPwQ3vlr"
      },
      "execution_count": null,
      "outputs": []
    },
    {
      "cell_type": "code",
      "source": [
        "transformer_numerical = Pipeline(steps = [\n",
        "    ('outlier', PortlandHousingTransformer() ),\n",
        "    ('imputer', SimpleImputer(strategy = 'mean')),\n",
        "    ('scaler', StandardScaler())\n",
        "])"
      ],
      "metadata": {
        "id": "FhLYz15U3wPV"
      },
      "execution_count": null,
      "outputs": []
    },
    {
      "cell_type": "code",
      "source": [
        "transformer_categorical = Pipeline(steps = [\n",
        "    ('imputer', SimpleImputer(strategy = 'most_frequent')),\n",
        "])"
      ],
      "metadata": {
        "id": "p-4tVJpJ31Nr"
      },
      "execution_count": null,
      "outputs": []
    },
    {
      "cell_type": "code",
      "source": [
        "preprocessor = ColumnTransformer(transformers =[\n",
        "    ('numerical', transformer_numerical, cols_numerical),\n",
        "    ('categorical', transformer_categorical, cols_categorical)\n",
        "])"
      ],
      "metadata": {
        "id": "3AsZhvM031rr"
      },
      "execution_count": null,
      "outputs": []
    },
    {
      "cell_type": "code",
      "source": [
        "pipe = Pipeline(steps =[\n",
        "    ('preprocessor', preprocessor)\n",
        "])"
      ],
      "metadata": {
        "id": "OMpaUz0V33gV"
      },
      "execution_count": null,
      "outputs": []
    },
    {
      "cell_type": "code",
      "source": [
        "preprocessor"
      ],
      "metadata": {
        "colab": {
          "base_uri": "https://localhost:8080/"
        },
        "id": "gfiticOR37xf",
        "outputId": "b672a9a7-e90e-4271-b81a-e8521694e340"
      },
      "execution_count": null,
      "outputs": [
        {
          "output_type": "execute_result",
          "data": {
            "text/plain": [
              "ColumnTransformer(transformers=[('numerical',\n",
              "                                 Pipeline(steps=[('outlier',\n",
              "                                                  PortlandHousingTransformer()),\n",
              "                                                 ('imputer', SimpleImputer()),\n",
              "                                                 ('scaler', StandardScaler())]),\n",
              "                                 ['Size']),\n",
              "                                ('categorical',\n",
              "                                 Pipeline(steps=[('imputer',\n",
              "                                                  SimpleImputer(strategy='most_frequent'))]),\n",
              "                                 ['Bedrooms'])])"
            ]
          },
          "metadata": {},
          "execution_count": 116
        }
      ]
    },
    {
      "cell_type": "code",
      "source": [
        "pipe.fit(X_train, y_train)"
      ],
      "metadata": {
        "colab": {
          "base_uri": "https://localhost:8080/"
        },
        "id": "Wc_mcJTt38RW",
        "outputId": "d07ee25f-9143-43f8-b863-a122f2768282"
      },
      "execution_count": null,
      "outputs": [
        {
          "output_type": "execute_result",
          "data": {
            "text/plain": [
              "Pipeline(steps=[('preprocessor',\n",
              "                 ColumnTransformer(transformers=[('numerical',\n",
              "                                                  Pipeline(steps=[('outlier',\n",
              "                                                                   PortlandHousingTransformer()),\n",
              "                                                                  ('imputer',\n",
              "                                                                   SimpleImputer()),\n",
              "                                                                  ('scaler',\n",
              "                                                                   StandardScaler())]),\n",
              "                                                  ['Size']),\n",
              "                                                 ('categorical',\n",
              "                                                  Pipeline(steps=[('imputer',\n",
              "                                                                   SimpleImputer(strategy='most_frequent'))]),\n",
              "                                                  ['Bedrooms'])]))])"
            ]
          },
          "metadata": {},
          "execution_count": 117
        }
      ]
    },
    {
      "cell_type": "code",
      "source": [
        "pipe.transform(X_train)"
      ],
      "metadata": {
        "colab": {
          "base_uri": "https://localhost:8080/"
        },
        "id": "nnLZYN3g3-Q_",
        "outputId": "22619e53-c253-4521-99d2-6387b996638d"
      },
      "execution_count": null,
      "outputs": [
        {
          "output_type": "execute_result",
          "data": {
            "text/plain": [
              "array([[-0.93317669,  3.        ],\n",
              "       [-1.1145781 ,  2.        ],\n",
              "       [-1.48755297,  3.        ],\n",
              "       [-0.81958889,  3.        ],\n",
              "       [-0.91622329,  3.        ],\n",
              "       [ 0.14411788,  4.        ],\n",
              "       [-0.63988282,  3.        ],\n",
              "       [ 1.78614914,  4.        ],\n",
              "       [ 0.14411788,  5.        ],\n",
              "       [ 0.14411788,  1.        ],\n",
              "       [ 0.10606691,  4.        ],\n",
              "       [ 3.24244645,  3.        ],\n",
              "       [-0.14823414,  3.        ],\n",
              "       [ 1.11818506,  3.        ],\n",
              "       [ 0.54685538,  4.        ],\n",
              "       [-0.88062114,  3.        ],\n",
              "       [ 0.14411788,  2.        ],\n",
              "       [-0.53138104,  2.        ],\n",
              "       [-0.21265707,  4.        ],\n",
              "       [-1.01285769,  3.        ],\n",
              "       [ 0.37732135,  3.        ],\n",
              "       [ 0.31289842,  4.        ],\n",
              "       [ 0.71638941,  3.        ],\n",
              "       [-0.02616964,  4.        ],\n",
              "       [ 0.26203821,  4.        ],\n",
              "       [-1.25190067,  3.        ],\n",
              "       [ 0.93000229,  3.        ]])"
            ]
          },
          "metadata": {},
          "execution_count": 118
        }
      ]
    },
    {
      "cell_type": "code",
      "source": [
        "pipe.transform(X_val)"
      ],
      "metadata": {
        "colab": {
          "base_uri": "https://localhost:8080/"
        },
        "id": "eI_d5EWl4Bim",
        "outputId": "77a49a2e-55cb-41f6-e720-9ea33d07392b"
      },
      "execution_count": null,
      "outputs": [
        {
          "output_type": "execute_result",
          "data": {
            "text/plain": [
              "array([[ 0.21456869,  3.        ],\n",
              "       [ 0.99951124,  4.        ],\n",
              "       [-0.35676099,  3.        ],\n",
              "       [-1.25698669,  3.        ],\n",
              "       [-0.06346712,  4.        ],\n",
              "       [-0.23469649,  2.        ],\n",
              "       [ 1.07071554,  4.        ],\n",
              "       [-1.2027358 ,  3.        ],\n",
              "       [ 0.44174429,  3.        ],\n",
              "       [-0.95182544,  2.        ]])"
            ]
          },
          "metadata": {},
          "execution_count": 119
        }
      ]
    },
    {
      "cell_type": "code",
      "source": [
        "pipe.transform(X_test)"
      ],
      "metadata": {
        "colab": {
          "base_uri": "https://localhost:8080/"
        },
        "id": "-q-YS-x94m5B",
        "outputId": "773efe01-ffae-4558-d101-508d558448fb"
      },
      "execution_count": null,
      "outputs": [
        {
          "output_type": "execute_result",
          "data": {
            "text/plain": [
              "array([[-0.15162482,  2.        ],\n",
              "       [-0.75177528,  3.        ],\n",
              "       [-1.31293292,  3.        ],\n",
              "       [ 0.0382533 ,  3.        ],\n",
              "       [-1.31801894,  3.        ],\n",
              "       [ 1.73359359,  4.        ],\n",
              "       [-0.28216602,  4.        ],\n",
              "       [ 1.96585521,  3.        ],\n",
              "       [-0.63310146,  3.        ],\n",
              "       [ 0.01282319,  4.        ]])"
            ]
          },
          "metadata": {},
          "execution_count": 120
        }
      ]
    },
    {
      "cell_type": "code",
      "source": [
        "transformer_categorical = Pipeline(steps = [\n",
        "    ('imputer', SimpleImputer(strategy = 'most_frequent')),\n",
        "    ('onehotenc', OneHotEncoder())\n",
        "])"
      ],
      "metadata": {
        "id": "0GLuDbCx4tSW"
      },
      "execution_count": null,
      "outputs": []
    },
    {
      "cell_type": "code",
      "source": [
        "preprocessor = ColumnTransformer(transformers =[\n",
        "    ('numerical', transformer_numerical, cols_numerical),\n",
        "    ('categorical', transformer_categorical, cols_categorical)\n",
        "])"
      ],
      "metadata": {
        "id": "FVL_ugz-5UzY"
      },
      "execution_count": null,
      "outputs": []
    },
    {
      "cell_type": "code",
      "source": [
        "pipe = Pipeline(steps =[\n",
        "    ('preprocessor', preprocessor)\n",
        "])"
      ],
      "metadata": {
        "id": "m5NZy_PO5Y9G"
      },
      "execution_count": null,
      "outputs": []
    },
    {
      "cell_type": "code",
      "source": [
        "from pandas.core.common import random_state\n",
        "pipe = Pipeline(steps =[\n",
        "    ('preprocessor', preprocessor),\n",
        "    ('model', LinearRegression())\n",
        "])"
      ],
      "metadata": {
        "id": "OVVP4kEU6n-u"
      },
      "execution_count": null,
      "outputs": []
    },
    {
      "cell_type": "code",
      "source": [
        "preprocessor"
      ],
      "metadata": {
        "colab": {
          "base_uri": "https://localhost:8080/"
        },
        "id": "8dOpv4US5cSs",
        "outputId": "df7262fb-adad-4e0f-adf7-195b4107343b"
      },
      "execution_count": null,
      "outputs": [
        {
          "output_type": "execute_result",
          "data": {
            "text/plain": [
              "ColumnTransformer(transformers=[('numerical',\n",
              "                                 Pipeline(steps=[('outlier',\n",
              "                                                  PortlandHousingTransformer()),\n",
              "                                                 ('imputer', SimpleImputer()),\n",
              "                                                 ('scaler', StandardScaler())]),\n",
              "                                 ['Size']),\n",
              "                                ('categorical',\n",
              "                                 Pipeline(steps=[('imputer',\n",
              "                                                  SimpleImputer(strategy='most_frequent')),\n",
              "                                                 ('onehotenc',\n",
              "                                                  OneHotEncoder())]),\n",
              "                                 ['Bedrooms'])])"
            ]
          },
          "metadata": {},
          "execution_count": 124
        }
      ]
    },
    {
      "cell_type": "code",
      "source": [
        "pipe"
      ],
      "metadata": {
        "colab": {
          "base_uri": "https://localhost:8080/"
        },
        "id": "3e8hB5xs7ujM",
        "outputId": "cdbd443a-6044-4d6b-e30c-bc2019a675c4"
      },
      "execution_count": null,
      "outputs": [
        {
          "output_type": "execute_result",
          "data": {
            "text/plain": [
              "Pipeline(steps=[('preprocessor',\n",
              "                 ColumnTransformer(transformers=[('numerical',\n",
              "                                                  Pipeline(steps=[('outlier',\n",
              "                                                                   PortlandHousingTransformer()),\n",
              "                                                                  ('imputer',\n",
              "                                                                   SimpleImputer()),\n",
              "                                                                  ('scaler',\n",
              "                                                                   StandardScaler())]),\n",
              "                                                  ['Size']),\n",
              "                                                 ('categorical',\n",
              "                                                  Pipeline(steps=[('imputer',\n",
              "                                                                   SimpleImputer(strategy='most_frequent')),\n",
              "                                                                  ('onehotenc',\n",
              "                                                                   OneHotEncoder())]),\n",
              "                                                  ['Bedrooms'])])),\n",
              "                ('model', LinearRegression())])"
            ]
          },
          "metadata": {},
          "execution_count": 135
        }
      ]
    },
    {
      "cell_type": "code",
      "source": [
        "pipe.fit(X_train, y_train)"
      ],
      "metadata": {
        "colab": {
          "base_uri": "https://localhost:8080/"
        },
        "id": "yiJLyEHx5fTm",
        "outputId": "c78e3903-d1a5-4d3e-9cdf-51c715aaf8aa"
      },
      "execution_count": null,
      "outputs": [
        {
          "output_type": "execute_result",
          "data": {
            "text/plain": [
              "Pipeline(steps=[('preprocessor',\n",
              "                 ColumnTransformer(transformers=[('numerical',\n",
              "                                                  Pipeline(steps=[('outlier',\n",
              "                                                                   PortlandHousingTransformer()),\n",
              "                                                                  ('imputer',\n",
              "                                                                   SimpleImputer()),\n",
              "                                                                  ('scaler',\n",
              "                                                                   StandardScaler())]),\n",
              "                                                  ['Size']),\n",
              "                                                 ('categorical',\n",
              "                                                  Pipeline(steps=[('imputer',\n",
              "                                                                   SimpleImputer(strategy='most_frequent')),\n",
              "                                                                  ('onehotenc',\n",
              "                                                                   OneHotEncoder())]),\n",
              "                                                  ['Bedrooms'])])),\n",
              "                ('model', LinearRegression())])"
            ]
          },
          "metadata": {},
          "execution_count": 136
        }
      ]
    },
    {
      "cell_type": "code",
      "source": [
        "pipe.transform(X_train)"
      ],
      "metadata": {
        "colab": {
          "base_uri": "https://localhost:8080/"
        },
        "id": "R5AUtQT_5f0-",
        "outputId": "f62ccf3d-4c16-429f-fea8-7359904ae291"
      },
      "execution_count": null,
      "outputs": [
        {
          "output_type": "execute_result",
          "data": {
            "text/plain": [
              "array([[-0.93317669,  0.        ,  0.        ,  1.        ,  0.        ,\n",
              "         0.        ],\n",
              "       [-1.1145781 ,  0.        ,  1.        ,  0.        ,  0.        ,\n",
              "         0.        ],\n",
              "       [-1.48755297,  0.        ,  0.        ,  1.        ,  0.        ,\n",
              "         0.        ],\n",
              "       [-0.81958889,  0.        ,  0.        ,  1.        ,  0.        ,\n",
              "         0.        ],\n",
              "       [-0.91622329,  0.        ,  0.        ,  1.        ,  0.        ,\n",
              "         0.        ],\n",
              "       [ 0.14411788,  0.        ,  0.        ,  0.        ,  1.        ,\n",
              "         0.        ],\n",
              "       [-0.63988282,  0.        ,  0.        ,  1.        ,  0.        ,\n",
              "         0.        ],\n",
              "       [ 1.78614914,  0.        ,  0.        ,  0.        ,  1.        ,\n",
              "         0.        ],\n",
              "       [ 0.14411788,  0.        ,  0.        ,  0.        ,  0.        ,\n",
              "         1.        ],\n",
              "       [ 0.14411788,  1.        ,  0.        ,  0.        ,  0.        ,\n",
              "         0.        ],\n",
              "       [ 0.10606691,  0.        ,  0.        ,  0.        ,  1.        ,\n",
              "         0.        ],\n",
              "       [ 3.24244645,  0.        ,  0.        ,  1.        ,  0.        ,\n",
              "         0.        ],\n",
              "       [-0.14823414,  0.        ,  0.        ,  1.        ,  0.        ,\n",
              "         0.        ],\n",
              "       [ 1.11818506,  0.        ,  0.        ,  1.        ,  0.        ,\n",
              "         0.        ],\n",
              "       [ 0.54685538,  0.        ,  0.        ,  0.        ,  1.        ,\n",
              "         0.        ],\n",
              "       [-0.88062114,  0.        ,  0.        ,  1.        ,  0.        ,\n",
              "         0.        ],\n",
              "       [ 0.14411788,  0.        ,  1.        ,  0.        ,  0.        ,\n",
              "         0.        ],\n",
              "       [-0.53138104,  0.        ,  1.        ,  0.        ,  0.        ,\n",
              "         0.        ],\n",
              "       [-0.21265707,  0.        ,  0.        ,  0.        ,  1.        ,\n",
              "         0.        ],\n",
              "       [-1.01285769,  0.        ,  0.        ,  1.        ,  0.        ,\n",
              "         0.        ],\n",
              "       [ 0.37732135,  0.        ,  0.        ,  1.        ,  0.        ,\n",
              "         0.        ],\n",
              "       [ 0.31289842,  0.        ,  0.        ,  0.        ,  1.        ,\n",
              "         0.        ],\n",
              "       [ 0.71638941,  0.        ,  0.        ,  1.        ,  0.        ,\n",
              "         0.        ],\n",
              "       [-0.02616964,  0.        ,  0.        ,  0.        ,  1.        ,\n",
              "         0.        ],\n",
              "       [ 0.26203821,  0.        ,  0.        ,  0.        ,  1.        ,\n",
              "         0.        ],\n",
              "       [-1.25190067,  0.        ,  0.        ,  1.        ,  0.        ,\n",
              "         0.        ],\n",
              "       [ 0.93000229,  0.        ,  0.        ,  1.        ,  0.        ,\n",
              "         0.        ]])"
            ]
          },
          "metadata": {},
          "execution_count": 126
        }
      ]
    },
    {
      "cell_type": "code",
      "source": [
        "pipe.transform(X_train)"
      ],
      "metadata": {
        "colab": {
          "base_uri": "https://localhost:8080/"
        },
        "id": "6BGLxEUn5jkx",
        "outputId": "4d4ebbfb-1695-4d02-d27d-9df7668c0666"
      },
      "execution_count": null,
      "outputs": [
        {
          "output_type": "execute_result",
          "data": {
            "text/plain": [
              "array([[-0.93317669,  0.        ,  0.        ,  1.        ,  0.        ,\n",
              "         0.        ],\n",
              "       [-1.1145781 ,  0.        ,  1.        ,  0.        ,  0.        ,\n",
              "         0.        ],\n",
              "       [-1.48755297,  0.        ,  0.        ,  1.        ,  0.        ,\n",
              "         0.        ],\n",
              "       [-0.81958889,  0.        ,  0.        ,  1.        ,  0.        ,\n",
              "         0.        ],\n",
              "       [-0.91622329,  0.        ,  0.        ,  1.        ,  0.        ,\n",
              "         0.        ],\n",
              "       [ 0.14411788,  0.        ,  0.        ,  0.        ,  1.        ,\n",
              "         0.        ],\n",
              "       [-0.63988282,  0.        ,  0.        ,  1.        ,  0.        ,\n",
              "         0.        ],\n",
              "       [ 1.78614914,  0.        ,  0.        ,  0.        ,  1.        ,\n",
              "         0.        ],\n",
              "       [ 0.14411788,  0.        ,  0.        ,  0.        ,  0.        ,\n",
              "         1.        ],\n",
              "       [ 0.14411788,  1.        ,  0.        ,  0.        ,  0.        ,\n",
              "         0.        ],\n",
              "       [ 0.10606691,  0.        ,  0.        ,  0.        ,  1.        ,\n",
              "         0.        ],\n",
              "       [ 3.24244645,  0.        ,  0.        ,  1.        ,  0.        ,\n",
              "         0.        ],\n",
              "       [-0.14823414,  0.        ,  0.        ,  1.        ,  0.        ,\n",
              "         0.        ],\n",
              "       [ 1.11818506,  0.        ,  0.        ,  1.        ,  0.        ,\n",
              "         0.        ],\n",
              "       [ 0.54685538,  0.        ,  0.        ,  0.        ,  1.        ,\n",
              "         0.        ],\n",
              "       [-0.88062114,  0.        ,  0.        ,  1.        ,  0.        ,\n",
              "         0.        ],\n",
              "       [ 0.14411788,  0.        ,  1.        ,  0.        ,  0.        ,\n",
              "         0.        ],\n",
              "       [-0.53138104,  0.        ,  1.        ,  0.        ,  0.        ,\n",
              "         0.        ],\n",
              "       [-0.21265707,  0.        ,  0.        ,  0.        ,  1.        ,\n",
              "         0.        ],\n",
              "       [-1.01285769,  0.        ,  0.        ,  1.        ,  0.        ,\n",
              "         0.        ],\n",
              "       [ 0.37732135,  0.        ,  0.        ,  1.        ,  0.        ,\n",
              "         0.        ],\n",
              "       [ 0.31289842,  0.        ,  0.        ,  0.        ,  1.        ,\n",
              "         0.        ],\n",
              "       [ 0.71638941,  0.        ,  0.        ,  1.        ,  0.        ,\n",
              "         0.        ],\n",
              "       [-0.02616964,  0.        ,  0.        ,  0.        ,  1.        ,\n",
              "         0.        ],\n",
              "       [ 0.26203821,  0.        ,  0.        ,  0.        ,  1.        ,\n",
              "         0.        ],\n",
              "       [-1.25190067,  0.        ,  0.        ,  1.        ,  0.        ,\n",
              "         0.        ],\n",
              "       [ 0.93000229,  0.        ,  0.        ,  1.        ,  0.        ,\n",
              "         0.        ]])"
            ]
          },
          "metadata": {},
          "execution_count": 127
        }
      ]
    },
    {
      "cell_type": "code",
      "source": [
        "pipe.transform(X_test)"
      ],
      "metadata": {
        "colab": {
          "base_uri": "https://localhost:8080/"
        },
        "id": "BUi7TJw_5ll9",
        "outputId": "1e88d5af-70a0-4a2d-c523-107d22f71509"
      },
      "execution_count": null,
      "outputs": [
        {
          "output_type": "execute_result",
          "data": {
            "text/plain": [
              "array([[-0.15162482,  0.        ,  1.        ,  0.        ,  0.        ,\n",
              "         0.        ],\n",
              "       [-0.75177528,  0.        ,  0.        ,  1.        ,  0.        ,\n",
              "         0.        ],\n",
              "       [-1.31293292,  0.        ,  0.        ,  1.        ,  0.        ,\n",
              "         0.        ],\n",
              "       [ 0.0382533 ,  0.        ,  0.        ,  1.        ,  0.        ,\n",
              "         0.        ],\n",
              "       [-1.31801894,  0.        ,  0.        ,  1.        ,  0.        ,\n",
              "         0.        ],\n",
              "       [ 1.73359359,  0.        ,  0.        ,  0.        ,  1.        ,\n",
              "         0.        ],\n",
              "       [-0.28216602,  0.        ,  0.        ,  0.        ,  1.        ,\n",
              "         0.        ],\n",
              "       [ 1.96585521,  0.        ,  0.        ,  1.        ,  0.        ,\n",
              "         0.        ],\n",
              "       [-0.63310146,  0.        ,  0.        ,  1.        ,  0.        ,\n",
              "         0.        ],\n",
              "       [ 0.01282319,  0.        ,  0.        ,  0.        ,  1.        ,\n",
              "         0.        ]])"
            ]
          },
          "metadata": {},
          "execution_count": 128
        }
      ]
    },
    {
      "cell_type": "code",
      "source": [
        "from pandas.core.common import random_state\n",
        "pipe = Pipeline(steps =[\n",
        "    ('preprocessor', preprocessor),\n",
        "    ('model', LinearRegression())\n",
        "])"
      ],
      "metadata": {
        "id": "cFGgv_rk5pVp"
      },
      "execution_count": null,
      "outputs": []
    },
    {
      "cell_type": "code",
      "source": [
        "preprocessor"
      ],
      "metadata": {
        "colab": {
          "base_uri": "https://localhost:8080/"
        },
        "id": "_94DZv099TTW",
        "outputId": "0358d66d-f420-4704-d6f1-b5b41137596a"
      },
      "execution_count": null,
      "outputs": [
        {
          "output_type": "execute_result",
          "data": {
            "text/plain": [
              "ColumnTransformer(transformers=[('numerical',\n",
              "                                 Pipeline(steps=[('outlier',\n",
              "                                                  PortlandHousingTransformer()),\n",
              "                                                 ('imputer', SimpleImputer()),\n",
              "                                                 ('scaler', StandardScaler())]),\n",
              "                                 ['Size']),\n",
              "                                ('categorical',\n",
              "                                 Pipeline(steps=[('imputer',\n",
              "                                                  SimpleImputer(strategy='most_frequent')),\n",
              "                                                 ('onehotenc',\n",
              "                                                  OneHotEncoder())]),\n",
              "                                 ['Bedrooms'])])"
            ]
          },
          "metadata": {},
          "execution_count": 138
        }
      ]
    },
    {
      "cell_type": "code",
      "source": [
        "pipe"
      ],
      "metadata": {
        "colab": {
          "base_uri": "https://localhost:8080/"
        },
        "id": "tq2KXcrJ9UFl",
        "outputId": "064d3405-a433-4a1f-95d8-6c21cd4ee705"
      },
      "execution_count": null,
      "outputs": [
        {
          "output_type": "execute_result",
          "data": {
            "text/plain": [
              "Pipeline(steps=[('preprocessor',\n",
              "                 ColumnTransformer(transformers=[('numerical',\n",
              "                                                  Pipeline(steps=[('outlier',\n",
              "                                                                   PortlandHousingTransformer()),\n",
              "                                                                  ('imputer',\n",
              "                                                                   SimpleImputer()),\n",
              "                                                                  ('scaler',\n",
              "                                                                   StandardScaler())]),\n",
              "                                                  ['Size']),\n",
              "                                                 ('categorical',\n",
              "                                                  Pipeline(steps=[('imputer',\n",
              "                                                                   SimpleImputer(strategy='most_frequent')),\n",
              "                                                                  ('onehotenc',\n",
              "                                                                   OneHotEncoder())]),\n",
              "                                                  ['Bedrooms'])])),\n",
              "                ('model', LinearRegression())])"
            ]
          },
          "metadata": {},
          "execution_count": 139
        }
      ]
    },
    {
      "cell_type": "code",
      "source": [
        "pipe.fit(X_train, y_train)"
      ],
      "metadata": {
        "colab": {
          "base_uri": "https://localhost:8080/"
        },
        "id": "SmQiMofd9XPf",
        "outputId": "1515baf9-4170-4bf0-bd00-44ff4dd93879"
      },
      "execution_count": null,
      "outputs": [
        {
          "output_type": "execute_result",
          "data": {
            "text/plain": [
              "Pipeline(steps=[('preprocessor',\n",
              "                 ColumnTransformer(transformers=[('numerical',\n",
              "                                                  Pipeline(steps=[('outlier',\n",
              "                                                                   PortlandHousingTransformer()),\n",
              "                                                                  ('imputer',\n",
              "                                                                   SimpleImputer()),\n",
              "                                                                  ('scaler',\n",
              "                                                                   StandardScaler())]),\n",
              "                                                  ['Size']),\n",
              "                                                 ('categorical',\n",
              "                                                  Pipeline(steps=[('imputer',\n",
              "                                                                   SimpleImputer(strategy='most_frequent')),\n",
              "                                                                  ('onehotenc',\n",
              "                                                                   OneHotEncoder())]),\n",
              "                                                  ['Bedrooms'])])),\n",
              "                ('model', LinearRegression())])"
            ]
          },
          "metadata": {},
          "execution_count": 140
        }
      ]
    },
    {
      "cell_type": "code",
      "source": [
        "y_pred_train = pipe.predict(X_train)"
      ],
      "metadata": {
        "id": "xmJTKPKy9Zph"
      },
      "execution_count": null,
      "outputs": []
    },
    {
      "cell_type": "code",
      "source": [
        "r2_train = r2_score(y_train, y_pred_train)\n",
        "r2_train"
      ],
      "metadata": {
        "colab": {
          "base_uri": "https://localhost:8080/"
        },
        "id": "KRQJxy_a9dh6",
        "outputId": "1a47d71f-def9-40c7-c77e-e24ed6f2ef73"
      },
      "execution_count": null,
      "outputs": [
        {
          "output_type": "execute_result",
          "data": {
            "text/plain": [
              "0.632434261335012"
            ]
          },
          "metadata": {},
          "execution_count": 147
        }
      ]
    },
    {
      "cell_type": "code",
      "source": [
        "y_pred_val = pipe.predict(X_val)"
      ],
      "metadata": {
        "id": "ueNGJN7_9fUB"
      },
      "execution_count": null,
      "outputs": []
    },
    {
      "cell_type": "code",
      "source": [
        "r2_train = r2_score(y_val, y_pred_val)\n",
        "r2_train"
      ],
      "metadata": {
        "colab": {
          "base_uri": "https://localhost:8080/"
        },
        "id": "tB0foV1Y9qDl",
        "outputId": "2f45d091-c88f-402a-fc28-5a3e9c031b42"
      },
      "execution_count": null,
      "outputs": [
        {
          "output_type": "execute_result",
          "data": {
            "text/plain": [
              "0.3973078352793066"
            ]
          },
          "metadata": {},
          "execution_count": 148
        }
      ]
    },
    {
      "cell_type": "code",
      "source": [
        "pipe.transform(X_test)"
      ],
      "metadata": {
        "colab": {
          "base_uri": "https://localhost:8080/",
          "height": 301
        },
        "id": "TDrt3CoM9tFa",
        "outputId": "f060264d-b3a7-4e7f-d7d2-87f1daee9920"
      },
      "execution_count": null,
      "outputs": [
        {
          "output_type": "error",
          "ename": "AttributeError",
          "evalue": "ignored",
          "traceback": [
            "\u001b[0;31m---------------------------------------------------------------------------\u001b[0m",
            "\u001b[0;31mAttributeError\u001b[0m                            Traceback (most recent call last)",
            "\u001b[0;32m<ipython-input-149-5f6ac49601a8>\u001b[0m in \u001b[0;36m<module>\u001b[0;34m\u001b[0m\n\u001b[0;32m----> 1\u001b[0;31m \u001b[0mpipe\u001b[0m\u001b[0;34m.\u001b[0m\u001b[0mtransform\u001b[0m\u001b[0;34m(\u001b[0m\u001b[0mX_test\u001b[0m\u001b[0;34m)\u001b[0m\u001b[0;34m\u001b[0m\u001b[0;34m\u001b[0m\u001b[0m\n\u001b[0m",
            "\u001b[0;32m/usr/local/lib/python3.7/dist-packages/sklearn/utils/metaestimators.py\u001b[0m in \u001b[0;36m__get__\u001b[0;34m(self, obj, owner)\u001b[0m\n\u001b[1;32m    108\u001b[0m             \u001b[0;31m# this is to allow access to the docstrings.\u001b[0m\u001b[0;34m\u001b[0m\u001b[0;34m\u001b[0m\u001b[0;34m\u001b[0m\u001b[0m\n\u001b[1;32m    109\u001b[0m             \u001b[0;32mif\u001b[0m \u001b[0;32mnot\u001b[0m \u001b[0mself\u001b[0m\u001b[0;34m.\u001b[0m\u001b[0mcheck\u001b[0m\u001b[0;34m(\u001b[0m\u001b[0mobj\u001b[0m\u001b[0;34m)\u001b[0m\u001b[0;34m:\u001b[0m\u001b[0;34m\u001b[0m\u001b[0;34m\u001b[0m\u001b[0m\n\u001b[0;32m--> 110\u001b[0;31m                 \u001b[0;32mraise\u001b[0m \u001b[0mattr_err\u001b[0m\u001b[0;34m\u001b[0m\u001b[0;34m\u001b[0m\u001b[0m\n\u001b[0m\u001b[1;32m    111\u001b[0m \u001b[0;34m\u001b[0m\u001b[0m\n\u001b[1;32m    112\u001b[0m             \u001b[0;31m# lambda, but not partial, allows help() to work with update_wrapper\u001b[0m\u001b[0;34m\u001b[0m\u001b[0;34m\u001b[0m\u001b[0;34m\u001b[0m\u001b[0m\n",
            "\u001b[0;31mAttributeError\u001b[0m: This 'Pipeline' has no attribute 'transform'"
          ]
        }
      ]
    },
    {
      "cell_type": "code",
      "source": [
        "regressors = [\n",
        "    DummyRegressor(strategy=\"mean\"),\n",
        "    LinearRegression(),\n",
        "    DecisionTreeRegressor()\n",
        "]"
      ],
      "metadata": {
        "colab": {
          "base_uri": "https://localhost:8080/",
          "height": 246
        },
        "id": "vdUcBLms9vLB",
        "outputId": "b55c76f5-672d-41be-f982-64abe10fe477"
      },
      "execution_count": null,
      "outputs": [
        {
          "output_type": "error",
          "ename": "NameError",
          "evalue": "ignored",
          "traceback": [
            "\u001b[0;31m---------------------------------------------------------------------------\u001b[0m",
            "\u001b[0;31mNameError\u001b[0m                                 Traceback (most recent call last)",
            "\u001b[0;32m<ipython-input-150-ec599796aa8c>\u001b[0m in \u001b[0;36m<module>\u001b[0;34m\u001b[0m\n\u001b[1;32m      1\u001b[0m regressors = [\n\u001b[0;32m----> 2\u001b[0;31m     \u001b[0mDummyRegressor\u001b[0m\u001b[0;34m(\u001b[0m\u001b[0mstrategy\u001b[0m\u001b[0;34m=\u001b[0m\u001b[0;34m\"mean\"\u001b[0m\u001b[0;34m)\u001b[0m\u001b[0;34m,\u001b[0m\u001b[0;34m\u001b[0m\u001b[0;34m\u001b[0m\u001b[0m\n\u001b[0m\u001b[1;32m      3\u001b[0m     \u001b[0mLinearRegression\u001b[0m\u001b[0;34m(\u001b[0m\u001b[0;34m)\u001b[0m\u001b[0;34m,\u001b[0m\u001b[0;34m\u001b[0m\u001b[0;34m\u001b[0m\u001b[0m\n\u001b[1;32m      4\u001b[0m     \u001b[0mDecisionTreeRegressor\u001b[0m\u001b[0;34m(\u001b[0m\u001b[0;34m)\u001b[0m\u001b[0;34m\u001b[0m\u001b[0;34m\u001b[0m\u001b[0m\n\u001b[1;32m      5\u001b[0m ]\n",
            "\u001b[0;31mNameError\u001b[0m: name 'DummyRegressor' is not defined"
          ]
        }
      ]
    },
    {
      "cell_type": "code",
      "source": [
        "from sklearn.linear_model import LinearRegression\n",
        "from sklearn.dummy import DummyRegressor\n",
        "from sklearn.tree import DecisionTreeRegressor"
      ],
      "metadata": {
        "id": "CjxzYa9y-PUc"
      },
      "execution_count": null,
      "outputs": []
    },
    {
      "cell_type": "code",
      "source": [
        "from sklearn.preprocessing import MinMaxScaler"
      ],
      "metadata": {
        "id": "2tikxVbt-lQN"
      },
      "execution_count": null,
      "outputs": []
    },
    {
      "cell_type": "code",
      "source": [
        "regressors = [\n",
        "    DummyRegressor(strategy=\"mean\"),\n",
        "    LinearRegression(),\n",
        "    DecisionTreeRegressor()\n",
        "]"
      ],
      "metadata": {
        "id": "aOyAUzYO-XcD"
      },
      "execution_count": null,
      "outputs": []
    },
    {
      "cell_type": "code",
      "source": [
        "scalers = [StandardScaler(),\n",
        "           ]"
      ],
      "metadata": {
        "id": "1wTIwmxe-aIi"
      },
      "execution_count": null,
      "outputs": []
    },
    {
      "cell_type": "code",
      "source": [
        "pipe = Pipeline(steps=[\n",
        "    ('preprocessor', preprocessor),\n",
        "    ('model', None)\n",
        "])"
      ],
      "metadata": {
        "id": "390wgyLP-4qJ"
      },
      "execution_count": null,
      "outputs": []
    },
    {
      "cell_type": "code",
      "source": [
        "pipe.get_params().keys()"
      ],
      "metadata": {
        "colab": {
          "base_uri": "https://localhost:8080/"
        },
        "id": "3osQF1wJAOJq",
        "outputId": "6f1e9a12-cd82-423f-c3b1-9f5782a7fb80"
      },
      "execution_count": null,
      "outputs": [
        {
          "output_type": "execute_result",
          "data": {
            "text/plain": [
              "dict_keys(['memory', 'steps', 'verbose', 'preprocessor', 'model', 'preprocessor__n_jobs', 'preprocessor__remainder', 'preprocessor__sparse_threshold', 'preprocessor__transformer_weights', 'preprocessor__transformers', 'preprocessor__verbose', 'preprocessor__verbose_feature_names_out', 'preprocessor__numerical', 'preprocessor__categorical', 'preprocessor__numerical__memory', 'preprocessor__numerical__steps', 'preprocessor__numerical__verbose', 'preprocessor__numerical__outlier', 'preprocessor__numerical__imputer', 'preprocessor__numerical__scaler', 'preprocessor__numerical__imputer__add_indicator', 'preprocessor__numerical__imputer__copy', 'preprocessor__numerical__imputer__fill_value', 'preprocessor__numerical__imputer__missing_values', 'preprocessor__numerical__imputer__strategy', 'preprocessor__numerical__imputer__verbose', 'preprocessor__numerical__scaler__copy', 'preprocessor__numerical__scaler__with_mean', 'preprocessor__numerical__scaler__with_std', 'preprocessor__categorical__memory', 'preprocessor__categorical__steps', 'preprocessor__categorical__verbose', 'preprocessor__categorical__imputer', 'preprocessor__categorical__onehotenc', 'preprocessor__categorical__imputer__add_indicator', 'preprocessor__categorical__imputer__copy', 'preprocessor__categorical__imputer__fill_value', 'preprocessor__categorical__imputer__missing_values', 'preprocessor__categorical__imputer__strategy', 'preprocessor__categorical__imputer__verbose', 'preprocessor__categorical__onehotenc__categories', 'preprocessor__categorical__onehotenc__drop', 'preprocessor__categorical__onehotenc__dtype', 'preprocessor__categorical__onehotenc__handle_unknown', 'preprocessor__categorical__onehotenc__sparse', 'model__constant', 'model__quantile', 'model__strategy'])"
            ]
          },
          "metadata": {},
          "execution_count": 160
        }
      ]
    },
    {
      "cell_type": "code",
      "source": [
        "models_df = pd.DataFrame()"
      ],
      "metadata": {
        "id": "lg4vr85PHW7o"
      },
      "execution_count": null,
      "outputs": []
    },
    {
      "cell_type": "code",
      "source": [
        "pipe = Pipeline(steps=[\n",
        "    ('preprocessor', preprocessor),\n",
        "    ('model', None)\n",
        "])"
      ],
      "metadata": {
        "id": "FCE1oz_gHwA8"
      },
      "execution_count": null,
      "outputs": []
    },
    {
      "cell_type": "code",
      "source": [
        "pipe.named_steps"
      ],
      "metadata": {
        "colab": {
          "base_uri": "https://localhost:8080/"
        },
        "id": "sbSbKApsHyLy",
        "outputId": "bc38bcc1-e2b3-4375-d202-75a5e7ec1fdb"
      },
      "execution_count": null,
      "outputs": [
        {
          "output_type": "execute_result",
          "data": {
            "text/plain": [
              "{'preprocessor': ColumnTransformer(transformers=[('numerical',\n",
              "                                  Pipeline(steps=[('outlier',\n",
              "                                                   PortlandHousingTransformer()),\n",
              "                                                  ('imputer', SimpleImputer()),\n",
              "                                                  ('scaler', StandardScaler())]),\n",
              "                                  ['Size']),\n",
              "                                 ('categorical',\n",
              "                                  Pipeline(steps=[('imputer',\n",
              "                                                   SimpleImputer(strategy='most_frequent')),\n",
              "                                                  ('onehotenc',\n",
              "                                                   OneHotEncoder())]),\n",
              "                                  ['Bedrooms'])]), 'model': None}"
            ]
          },
          "metadata": {},
          "execution_count": 181
        }
      ]
    },
    {
      "cell_type": "code",
      "source": [
        "import time"
      ],
      "metadata": {
        "id": "DmTjWVPzB5Ti"
      },
      "execution_count": null,
      "outputs": []
    },
    {
      "cell_type": "code",
      "source": [
        "from sklearn.metrics import mean_absolute_error"
      ],
      "metadata": {
        "id": "FCrOnLPpDTy5"
      },
      "execution_count": null,
      "outputs": []
    },
    {
      "cell_type": "code",
      "source": [
        "from sklearn.metrics import mean_absolute_percentage_error"
      ],
      "metadata": {
        "id": "KY8LL7wWDTiw"
      },
      "execution_count": null,
      "outputs": []
    },
    {
      "cell_type": "code",
      "source": [
        "from sklearn.metrics import mean_squared_error"
      ],
      "metadata": {
        "id": "rAW5tANPDkiA"
      },
      "execution_count": null,
      "outputs": []
    },
    {
      "cell_type": "code",
      "source": [
        "from sklearn.metrics import max_error"
      ],
      "metadata": {
        "id": "Ff91jVZXDnvq"
      },
      "execution_count": null,
      "outputs": []
    },
    {
      "cell_type": "code",
      "source": [
        "models_df = pd.DataFrame()\n",
        "for model in regressors:\n",
        "  for scaler in scalers:\n",
        "\n",
        "    pipe_params = {\n",
        "        'preprocessor__numerical__scaler': scaler,\n",
        "        'model': model\n",
        "    }\n",
        "\n",
        "    pipe.set_params(**pipe_params)\n",
        "\n",
        "    #training\n",
        "    start_time = time.time()\n",
        "    pipe.fit(X_train, y_train)\n",
        "    end_time = time.time()\n",
        "\n",
        "    y_pred_train = pipe.predict(X_train)\n",
        "    r2_train = r2_score(y_train, y_pred_train)\n",
        "    y_pred_val = pipe.predict(X_val)\n",
        "    r2_val = r2_score(y_val, y_pred_val)\n",
        "\n",
        "    mae_train = mean_absolute_error(y_train, y_pred_train)\n",
        "    mae_val = mean_absolute_error(y_val, y_pred_val)\n",
        "\n",
        "    mape_train = mean_absolute_percentage_error(y_train, y_pred_train)\n",
        "    mape_val = mean_absolute_percentage_error(y_val, y_pred_val)\n",
        "\n",
        "    mse_train = mean_squared_error(y_train, y_pred_train)\n",
        "    mse_val = mean_squared_error(y_val, y_pred_val)\n",
        "\n",
        "    rmse_train = mean_squared_error(y_train, y_pred_train, squared=False)\n",
        "    rmse_val = mean_squared_error(y_val, y_pred_val, squared=False)\n",
        "\n",
        "    max_error_train = max_error(y_train, y_pred_train)\n",
        "    max_error_val = max_error(y_val, y_pred_val)\n",
        "\n",
        "    param_dict ={\n",
        "        'model': model.__class__.__name__,\n",
        "        'scaler': scaler.__class__.__name__,\n",
        "        'r2_train': r2_train,\n",
        "        'r2_val': r2_val,\n",
        "        'mae_train': mae_train,\n",
        "        'mae_val': mae_val,\n",
        "        'mape_train': mape_train,\n",
        "        'mape_val': mape_val,\n",
        "        'mse_train': mse_train,\n",
        "        'mse_val': mse_val,\n",
        "        'rmse_train': rmse_train,\n",
        "        'rmse_val': rmse_val,\n",
        "        'max_error_train': max_error_train,\n",
        "        'max_error_val': max_error_val,\n",
        "        'time': end_time - start_time\n",
        "    }\n",
        "\n",
        "    models_df = models_df.append(pd.DataFrame(param_dict, index = [0]))"
      ],
      "metadata": {
        "id": "BABzEm2n_nsl"
      },
      "execution_count": null,
      "outputs": []
    },
    {
      "cell_type": "code",
      "source": [
        "models_df.reset_index(drop = True, inplace=True)"
      ],
      "metadata": {
        "id": "qd-9LoddB7Xp"
      },
      "execution_count": null,
      "outputs": []
    },
    {
      "cell_type": "code",
      "source": [
        "models_df\n"
      ],
      "metadata": {
        "colab": {
          "base_uri": "https://localhost:8080/",
          "height": 143
        },
        "id": "4iz9olx-BmL9",
        "outputId": "fc94df5e-8f72-4820-cc69-7483713cb392"
      },
      "execution_count": null,
      "outputs": [
        {
          "output_type": "execute_result",
          "data": {
            "text/plain": [
              "                   model          scaler  r2_train    r2_val      mae_train  \\\n",
              "0         DummyRegressor  StandardScaler  0.000000 -0.265708  110581.399177   \n",
              "1       LinearRegression  StandardScaler  0.632434  0.397308   64745.081685   \n",
              "2  DecisionTreeRegressor  StandardScaler  1.000000 -0.954470       0.000000   \n",
              "\n",
              "        mae_val  mape_train  mape_val     mse_train       mse_val  \\\n",
              "0  83630.966667    0.346953  0.311335  1.846258e+10  9.494730e+09   \n",
              "1  57121.293410    0.203420  0.198048  6.786212e+09  4.521106e+09   \n",
              "2  96369.800000    0.000000  0.288291  0.000000e+00  1.466149e+10   \n",
              "\n",
              "      rmse_train       rmse_val  max_error_train  max_error_val      time  \n",
              "0  135877.080347   97440.904335    347414.888889  152585.111111  0.071662  \n",
              "1   82378.469332   67239.167026    184475.816162  120315.902395  0.032804  \n",
              "2       0.000000  121084.637839         0.000000  220000.000000  0.020935  "
            ],
            "text/html": [
              "\n",
              "  <div id=\"df-2e258a0b-323d-4e9a-aae2-794b4dea942b\">\n",
              "    <div class=\"colab-df-container\">\n",
              "      <div>\n",
              "<style scoped>\n",
              "    .dataframe tbody tr th:only-of-type {\n",
              "        vertical-align: middle;\n",
              "    }\n",
              "\n",
              "    .dataframe tbody tr th {\n",
              "        vertical-align: top;\n",
              "    }\n",
              "\n",
              "    .dataframe thead th {\n",
              "        text-align: right;\n",
              "    }\n",
              "</style>\n",
              "<table border=\"1\" class=\"dataframe\">\n",
              "  <thead>\n",
              "    <tr style=\"text-align: right;\">\n",
              "      <th></th>\n",
              "      <th>model</th>\n",
              "      <th>scaler</th>\n",
              "      <th>r2_train</th>\n",
              "      <th>r2_val</th>\n",
              "      <th>mae_train</th>\n",
              "      <th>mae_val</th>\n",
              "      <th>mape_train</th>\n",
              "      <th>mape_val</th>\n",
              "      <th>mse_train</th>\n",
              "      <th>mse_val</th>\n",
              "      <th>rmse_train</th>\n",
              "      <th>rmse_val</th>\n",
              "      <th>max_error_train</th>\n",
              "      <th>max_error_val</th>\n",
              "      <th>time</th>\n",
              "    </tr>\n",
              "  </thead>\n",
              "  <tbody>\n",
              "    <tr>\n",
              "      <th>0</th>\n",
              "      <td>DummyRegressor</td>\n",
              "      <td>StandardScaler</td>\n",
              "      <td>0.000000</td>\n",
              "      <td>-0.265708</td>\n",
              "      <td>110581.399177</td>\n",
              "      <td>83630.966667</td>\n",
              "      <td>0.346953</td>\n",
              "      <td>0.311335</td>\n",
              "      <td>1.846258e+10</td>\n",
              "      <td>9.494730e+09</td>\n",
              "      <td>135877.080347</td>\n",
              "      <td>97440.904335</td>\n",
              "      <td>347414.888889</td>\n",
              "      <td>152585.111111</td>\n",
              "      <td>0.071662</td>\n",
              "    </tr>\n",
              "    <tr>\n",
              "      <th>1</th>\n",
              "      <td>LinearRegression</td>\n",
              "      <td>StandardScaler</td>\n",
              "      <td>0.632434</td>\n",
              "      <td>0.397308</td>\n",
              "      <td>64745.081685</td>\n",
              "      <td>57121.293410</td>\n",
              "      <td>0.203420</td>\n",
              "      <td>0.198048</td>\n",
              "      <td>6.786212e+09</td>\n",
              "      <td>4.521106e+09</td>\n",
              "      <td>82378.469332</td>\n",
              "      <td>67239.167026</td>\n",
              "      <td>184475.816162</td>\n",
              "      <td>120315.902395</td>\n",
              "      <td>0.032804</td>\n",
              "    </tr>\n",
              "    <tr>\n",
              "      <th>2</th>\n",
              "      <td>DecisionTreeRegressor</td>\n",
              "      <td>StandardScaler</td>\n",
              "      <td>1.000000</td>\n",
              "      <td>-0.954470</td>\n",
              "      <td>0.000000</td>\n",
              "      <td>96369.800000</td>\n",
              "      <td>0.000000</td>\n",
              "      <td>0.288291</td>\n",
              "      <td>0.000000e+00</td>\n",
              "      <td>1.466149e+10</td>\n",
              "      <td>0.000000</td>\n",
              "      <td>121084.637839</td>\n",
              "      <td>0.000000</td>\n",
              "      <td>220000.000000</td>\n",
              "      <td>0.020935</td>\n",
              "    </tr>\n",
              "  </tbody>\n",
              "</table>\n",
              "</div>\n",
              "      <button class=\"colab-df-convert\" onclick=\"convertToInteractive('df-2e258a0b-323d-4e9a-aae2-794b4dea942b')\"\n",
              "              title=\"Convert this dataframe to an interactive table.\"\n",
              "              style=\"display:none;\">\n",
              "        \n",
              "  <svg xmlns=\"http://www.w3.org/2000/svg\" height=\"24px\"viewBox=\"0 0 24 24\"\n",
              "       width=\"24px\">\n",
              "    <path d=\"M0 0h24v24H0V0z\" fill=\"none\"/>\n",
              "    <path d=\"M18.56 5.44l.94 2.06.94-2.06 2.06-.94-2.06-.94-.94-2.06-.94 2.06-2.06.94zm-11 1L8.5 8.5l.94-2.06 2.06-.94-2.06-.94L8.5 2.5l-.94 2.06-2.06.94zm10 10l.94 2.06.94-2.06 2.06-.94-2.06-.94-.94-2.06-.94 2.06-2.06.94z\"/><path d=\"M17.41 7.96l-1.37-1.37c-.4-.4-.92-.59-1.43-.59-.52 0-1.04.2-1.43.59L10.3 9.45l-7.72 7.72c-.78.78-.78 2.05 0 2.83L4 21.41c.39.39.9.59 1.41.59.51 0 1.02-.2 1.41-.59l7.78-7.78 2.81-2.81c.8-.78.8-2.07 0-2.86zM5.41 20L4 18.59l7.72-7.72 1.47 1.35L5.41 20z\"/>\n",
              "  </svg>\n",
              "      </button>\n",
              "      \n",
              "  <style>\n",
              "    .colab-df-container {\n",
              "      display:flex;\n",
              "      flex-wrap:wrap;\n",
              "      gap: 12px;\n",
              "    }\n",
              "\n",
              "    .colab-df-convert {\n",
              "      background-color: #E8F0FE;\n",
              "      border: none;\n",
              "      border-radius: 50%;\n",
              "      cursor: pointer;\n",
              "      display: none;\n",
              "      fill: #1967D2;\n",
              "      height: 32px;\n",
              "      padding: 0 0 0 0;\n",
              "      width: 32px;\n",
              "    }\n",
              "\n",
              "    .colab-df-convert:hover {\n",
              "      background-color: #E2EBFA;\n",
              "      box-shadow: 0px 1px 2px rgba(60, 64, 67, 0.3), 0px 1px 3px 1px rgba(60, 64, 67, 0.15);\n",
              "      fill: #174EA6;\n",
              "    }\n",
              "\n",
              "    [theme=dark] .colab-df-convert {\n",
              "      background-color: #3B4455;\n",
              "      fill: #D2E3FC;\n",
              "    }\n",
              "\n",
              "    [theme=dark] .colab-df-convert:hover {\n",
              "      background-color: #434B5C;\n",
              "      box-shadow: 0px 1px 3px 1px rgba(0, 0, 0, 0.15);\n",
              "      filter: drop-shadow(0px 1px 2px rgba(0, 0, 0, 0.3));\n",
              "      fill: #FFFFFF;\n",
              "    }\n",
              "  </style>\n",
              "\n",
              "      <script>\n",
              "        const buttonEl =\n",
              "          document.querySelector('#df-2e258a0b-323d-4e9a-aae2-794b4dea942b button.colab-df-convert');\n",
              "        buttonEl.style.display =\n",
              "          google.colab.kernel.accessAllowed ? 'block' : 'none';\n",
              "\n",
              "        async function convertToInteractive(key) {\n",
              "          const element = document.querySelector('#df-2e258a0b-323d-4e9a-aae2-794b4dea942b');\n",
              "          const dataTable =\n",
              "            await google.colab.kernel.invokeFunction('convertToInteractive',\n",
              "                                                     [key], {});\n",
              "          if (!dataTable) return;\n",
              "\n",
              "          const docLinkHtml = 'Like what you see? Visit the ' +\n",
              "            '<a target=\"_blank\" href=https://colab.research.google.com/notebooks/data_table.ipynb>data table notebook</a>'\n",
              "            + ' to learn more about interactive tables.';\n",
              "          element.innerHTML = '';\n",
              "          dataTable['output_type'] = 'display_data';\n",
              "          await google.colab.output.renderOutput(dataTable, element);\n",
              "          const docLink = document.createElement('div');\n",
              "          docLink.innerHTML = docLinkHtml;\n",
              "          element.appendChild(docLink);\n",
              "        }\n",
              "      </script>\n",
              "    </div>\n",
              "  </div>\n",
              "  "
            ]
          },
          "metadata": {},
          "execution_count": 184
        }
      ]
    },
    {
      "cell_type": "code",
      "source": [
        "models_df.sort_values('rmse_val')"
      ],
      "metadata": {
        "colab": {
          "base_uri": "https://localhost:8080/",
          "height": 143
        },
        "id": "kRcSqcf1HjYM",
        "outputId": "67ef06f8-0f94-44da-b17c-c90551018286"
      },
      "execution_count": null,
      "outputs": [
        {
          "output_type": "execute_result",
          "data": {
            "text/plain": [
              "                   model          scaler  r2_train    r2_val      mae_train  \\\n",
              "1       LinearRegression  StandardScaler  0.632434  0.397308   64745.081685   \n",
              "0         DummyRegressor  StandardScaler  0.000000 -0.265708  110581.399177   \n",
              "2  DecisionTreeRegressor  StandardScaler  1.000000 -0.954470       0.000000   \n",
              "\n",
              "        mae_val  mape_train  mape_val     mse_train       mse_val  \\\n",
              "1  57121.293410    0.203420  0.198048  6.786212e+09  4.521106e+09   \n",
              "0  83630.966667    0.346953  0.311335  1.846258e+10  9.494730e+09   \n",
              "2  96369.800000    0.000000  0.288291  0.000000e+00  1.466149e+10   \n",
              "\n",
              "      rmse_train       rmse_val  max_error_train  max_error_val      time  \n",
              "1   82378.469332   67239.167026    184475.816162  120315.902395  0.032804  \n",
              "0  135877.080347   97440.904335    347414.888889  152585.111111  0.071662  \n",
              "2       0.000000  121084.637839         0.000000  220000.000000  0.020935  "
            ],
            "text/html": [
              "\n",
              "  <div id=\"df-e50e7f1e-7d06-42e8-b685-4e61dd9a4e40\">\n",
              "    <div class=\"colab-df-container\">\n",
              "      <div>\n",
              "<style scoped>\n",
              "    .dataframe tbody tr th:only-of-type {\n",
              "        vertical-align: middle;\n",
              "    }\n",
              "\n",
              "    .dataframe tbody tr th {\n",
              "        vertical-align: top;\n",
              "    }\n",
              "\n",
              "    .dataframe thead th {\n",
              "        text-align: right;\n",
              "    }\n",
              "</style>\n",
              "<table border=\"1\" class=\"dataframe\">\n",
              "  <thead>\n",
              "    <tr style=\"text-align: right;\">\n",
              "      <th></th>\n",
              "      <th>model</th>\n",
              "      <th>scaler</th>\n",
              "      <th>r2_train</th>\n",
              "      <th>r2_val</th>\n",
              "      <th>mae_train</th>\n",
              "      <th>mae_val</th>\n",
              "      <th>mape_train</th>\n",
              "      <th>mape_val</th>\n",
              "      <th>mse_train</th>\n",
              "      <th>mse_val</th>\n",
              "      <th>rmse_train</th>\n",
              "      <th>rmse_val</th>\n",
              "      <th>max_error_train</th>\n",
              "      <th>max_error_val</th>\n",
              "      <th>time</th>\n",
              "    </tr>\n",
              "  </thead>\n",
              "  <tbody>\n",
              "    <tr>\n",
              "      <th>1</th>\n",
              "      <td>LinearRegression</td>\n",
              "      <td>StandardScaler</td>\n",
              "      <td>0.632434</td>\n",
              "      <td>0.397308</td>\n",
              "      <td>64745.081685</td>\n",
              "      <td>57121.293410</td>\n",
              "      <td>0.203420</td>\n",
              "      <td>0.198048</td>\n",
              "      <td>6.786212e+09</td>\n",
              "      <td>4.521106e+09</td>\n",
              "      <td>82378.469332</td>\n",
              "      <td>67239.167026</td>\n",
              "      <td>184475.816162</td>\n",
              "      <td>120315.902395</td>\n",
              "      <td>0.032804</td>\n",
              "    </tr>\n",
              "    <tr>\n",
              "      <th>0</th>\n",
              "      <td>DummyRegressor</td>\n",
              "      <td>StandardScaler</td>\n",
              "      <td>0.000000</td>\n",
              "      <td>-0.265708</td>\n",
              "      <td>110581.399177</td>\n",
              "      <td>83630.966667</td>\n",
              "      <td>0.346953</td>\n",
              "      <td>0.311335</td>\n",
              "      <td>1.846258e+10</td>\n",
              "      <td>9.494730e+09</td>\n",
              "      <td>135877.080347</td>\n",
              "      <td>97440.904335</td>\n",
              "      <td>347414.888889</td>\n",
              "      <td>152585.111111</td>\n",
              "      <td>0.071662</td>\n",
              "    </tr>\n",
              "    <tr>\n",
              "      <th>2</th>\n",
              "      <td>DecisionTreeRegressor</td>\n",
              "      <td>StandardScaler</td>\n",
              "      <td>1.000000</td>\n",
              "      <td>-0.954470</td>\n",
              "      <td>0.000000</td>\n",
              "      <td>96369.800000</td>\n",
              "      <td>0.000000</td>\n",
              "      <td>0.288291</td>\n",
              "      <td>0.000000e+00</td>\n",
              "      <td>1.466149e+10</td>\n",
              "      <td>0.000000</td>\n",
              "      <td>121084.637839</td>\n",
              "      <td>0.000000</td>\n",
              "      <td>220000.000000</td>\n",
              "      <td>0.020935</td>\n",
              "    </tr>\n",
              "  </tbody>\n",
              "</table>\n",
              "</div>\n",
              "      <button class=\"colab-df-convert\" onclick=\"convertToInteractive('df-e50e7f1e-7d06-42e8-b685-4e61dd9a4e40')\"\n",
              "              title=\"Convert this dataframe to an interactive table.\"\n",
              "              style=\"display:none;\">\n",
              "        \n",
              "  <svg xmlns=\"http://www.w3.org/2000/svg\" height=\"24px\"viewBox=\"0 0 24 24\"\n",
              "       width=\"24px\">\n",
              "    <path d=\"M0 0h24v24H0V0z\" fill=\"none\"/>\n",
              "    <path d=\"M18.56 5.44l.94 2.06.94-2.06 2.06-.94-2.06-.94-.94-2.06-.94 2.06-2.06.94zm-11 1L8.5 8.5l.94-2.06 2.06-.94-2.06-.94L8.5 2.5l-.94 2.06-2.06.94zm10 10l.94 2.06.94-2.06 2.06-.94-2.06-.94-.94-2.06-.94 2.06-2.06.94z\"/><path d=\"M17.41 7.96l-1.37-1.37c-.4-.4-.92-.59-1.43-.59-.52 0-1.04.2-1.43.59L10.3 9.45l-7.72 7.72c-.78.78-.78 2.05 0 2.83L4 21.41c.39.39.9.59 1.41.59.51 0 1.02-.2 1.41-.59l7.78-7.78 2.81-2.81c.8-.78.8-2.07 0-2.86zM5.41 20L4 18.59l7.72-7.72 1.47 1.35L5.41 20z\"/>\n",
              "  </svg>\n",
              "      </button>\n",
              "      \n",
              "  <style>\n",
              "    .colab-df-container {\n",
              "      display:flex;\n",
              "      flex-wrap:wrap;\n",
              "      gap: 12px;\n",
              "    }\n",
              "\n",
              "    .colab-df-convert {\n",
              "      background-color: #E8F0FE;\n",
              "      border: none;\n",
              "      border-radius: 50%;\n",
              "      cursor: pointer;\n",
              "      display: none;\n",
              "      fill: #1967D2;\n",
              "      height: 32px;\n",
              "      padding: 0 0 0 0;\n",
              "      width: 32px;\n",
              "    }\n",
              "\n",
              "    .colab-df-convert:hover {\n",
              "      background-color: #E2EBFA;\n",
              "      box-shadow: 0px 1px 2px rgba(60, 64, 67, 0.3), 0px 1px 3px 1px rgba(60, 64, 67, 0.15);\n",
              "      fill: #174EA6;\n",
              "    }\n",
              "\n",
              "    [theme=dark] .colab-df-convert {\n",
              "      background-color: #3B4455;\n",
              "      fill: #D2E3FC;\n",
              "    }\n",
              "\n",
              "    [theme=dark] .colab-df-convert:hover {\n",
              "      background-color: #434B5C;\n",
              "      box-shadow: 0px 1px 3px 1px rgba(0, 0, 0, 0.15);\n",
              "      filter: drop-shadow(0px 1px 2px rgba(0, 0, 0, 0.3));\n",
              "      fill: #FFFFFF;\n",
              "    }\n",
              "  </style>\n",
              "\n",
              "      <script>\n",
              "        const buttonEl =\n",
              "          document.querySelector('#df-e50e7f1e-7d06-42e8-b685-4e61dd9a4e40 button.colab-df-convert');\n",
              "        buttonEl.style.display =\n",
              "          google.colab.kernel.accessAllowed ? 'block' : 'none';\n",
              "\n",
              "        async function convertToInteractive(key) {\n",
              "          const element = document.querySelector('#df-e50e7f1e-7d06-42e8-b685-4e61dd9a4e40');\n",
              "          const dataTable =\n",
              "            await google.colab.kernel.invokeFunction('convertToInteractive',\n",
              "                                                     [key], {});\n",
              "          if (!dataTable) return;\n",
              "\n",
              "          const docLinkHtml = 'Like what you see? Visit the ' +\n",
              "            '<a target=\"_blank\" href=https://colab.research.google.com/notebooks/data_table.ipynb>data table notebook</a>'\n",
              "            + ' to learn more about interactive tables.';\n",
              "          element.innerHTML = '';\n",
              "          dataTable['output_type'] = 'display_data';\n",
              "          await google.colab.output.renderOutput(dataTable, element);\n",
              "          const docLink = document.createElement('div');\n",
              "          docLink.innerHTML = docLinkHtml;\n",
              "          element.appendChild(docLink);\n",
              "        }\n",
              "      </script>\n",
              "    </div>\n",
              "  </div>\n",
              "  "
            ]
          },
          "metadata": {},
          "execution_count": 185
        }
      ]
    },
    {
      "cell_type": "code",
      "source": [
        "pipe_params = {\n",
        "    'preprocessor__numerical__scaler': StandardScaler(),\n",
        "    'model': LinearRegression()\n",
        "}\n",
        "\n",
        "pipe.set_params(**pipe_params)"
      ],
      "metadata": {
        "colab": {
          "base_uri": "https://localhost:8080/"
        },
        "id": "f3RegczWHphS",
        "outputId": "f1d0bb11-c09e-4ec6-a3ac-106f606f71f8"
      },
      "execution_count": null,
      "outputs": [
        {
          "output_type": "execute_result",
          "data": {
            "text/plain": [
              "Pipeline(steps=[('preprocessor',\n",
              "                 ColumnTransformer(transformers=[('numerical',\n",
              "                                                  Pipeline(steps=[('outlier',\n",
              "                                                                   PortlandHousingTransformer()),\n",
              "                                                                  ('imputer',\n",
              "                                                                   SimpleImputer()),\n",
              "                                                                  ('scaler',\n",
              "                                                                   StandardScaler())]),\n",
              "                                                  ['Size']),\n",
              "                                                 ('categorical',\n",
              "                                                  Pipeline(steps=[('imputer',\n",
              "                                                                   SimpleImputer(strategy='most_frequent')),\n",
              "                                                                  ('onehotenc',\n",
              "                                                                   OneHotEncoder())]),\n",
              "                                                  ['Bedrooms'])])),\n",
              "                ('model', LinearRegression())])"
            ]
          },
          "metadata": {},
          "execution_count": 186
        }
      ]
    },
    {
      "cell_type": "code",
      "source": [
        "pipe.fit(X_train, y_train)"
      ],
      "metadata": {
        "colab": {
          "base_uri": "https://localhost:8080/"
        },
        "id": "2lEANX4NIzr-",
        "outputId": "334d5a3b-f705-40c4-849c-ec303caee419"
      },
      "execution_count": null,
      "outputs": [
        {
          "output_type": "execute_result",
          "data": {
            "text/plain": [
              "Pipeline(steps=[('preprocessor',\n",
              "                 ColumnTransformer(transformers=[('numerical',\n",
              "                                                  Pipeline(steps=[('outlier',\n",
              "                                                                   PortlandHousingTransformer()),\n",
              "                                                                  ('imputer',\n",
              "                                                                   SimpleImputer()),\n",
              "                                                                  ('scaler',\n",
              "                                                                   StandardScaler())]),\n",
              "                                                  ['Size']),\n",
              "                                                 ('categorical',\n",
              "                                                  Pipeline(steps=[('imputer',\n",
              "                                                                   SimpleImputer(strategy='most_frequent')),\n",
              "                                                                  ('onehotenc',\n",
              "                                                                   OneHotEncoder())]),\n",
              "                                                  ['Bedrooms'])])),\n",
              "                ('model', LinearRegression())])"
            ]
          },
          "metadata": {},
          "execution_count": 187
        }
      ]
    },
    {
      "cell_type": "code",
      "source": [
        "y_pred_test = pipe.predict(X_test)"
      ],
      "metadata": {
        "id": "bkAdqp6dI21Q"
      },
      "execution_count": null,
      "outputs": []
    },
    {
      "cell_type": "code",
      "source": [
        "mae_test = mean_absolute_error(y_test, y_pred_test)\n",
        "\n",
        "mape_test= mean_absolute_percentage_error(y_test, y_pred_test)\n",
        "\n",
        "mse_test = mean_squared_error(y_test, y_pred_test)\n",
        "\n",
        "rmse_test = mean_squared_error(y_test, y_pred_test, squared=False)\n",
        "\n",
        "max_error_test = max_error(y_test, y_pred_test)"
      ],
      "metadata": {
        "id": "NVqyzcRLI3kw"
      },
      "execution_count": null,
      "outputs": []
    },
    {
      "cell_type": "code",
      "source": [
        "mae_test, mape_test, mse_test, rmse_test, max_error_test"
      ],
      "metadata": {
        "colab": {
          "base_uri": "https://localhost:8080/"
        },
        "id": "7j3tj5HFI6Ol",
        "outputId": "f95d448a-07da-43e5-f279-9c294c5114f5"
      },
      "execution_count": null,
      "outputs": [
        {
          "output_type": "execute_result",
          "data": {
            "text/plain": [
              "(45583.6894459538,\n",
              " 0.13812984723732305,\n",
              " 2738866091.6598825,\n",
              " 52334.177089736324,\n",
              " 92463.46750225325)"
            ]
          },
          "metadata": {},
          "execution_count": 190
        }
      ]
    },
    {
      "cell_type": "code",
      "source": [
        "pipe.get_params().keys()"
      ],
      "metadata": {
        "colab": {
          "base_uri": "https://localhost:8080/"
        },
        "id": "F5KDgcHfI86R",
        "outputId": "6d4cdddf-8535-4440-d990-cf9ff0815c8c"
      },
      "execution_count": null,
      "outputs": [
        {
          "output_type": "execute_result",
          "data": {
            "text/plain": [
              "dict_keys(['memory', 'steps', 'verbose', 'preprocessor', 'model', 'preprocessor__n_jobs', 'preprocessor__remainder', 'preprocessor__sparse_threshold', 'preprocessor__transformer_weights', 'preprocessor__transformers', 'preprocessor__verbose', 'preprocessor__verbose_feature_names_out', 'preprocessor__numerical', 'preprocessor__categorical', 'preprocessor__numerical__memory', 'preprocessor__numerical__steps', 'preprocessor__numerical__verbose', 'preprocessor__numerical__outlier', 'preprocessor__numerical__imputer', 'preprocessor__numerical__scaler', 'preprocessor__numerical__imputer__add_indicator', 'preprocessor__numerical__imputer__copy', 'preprocessor__numerical__imputer__fill_value', 'preprocessor__numerical__imputer__missing_values', 'preprocessor__numerical__imputer__strategy', 'preprocessor__numerical__imputer__verbose', 'preprocessor__numerical__scaler__copy', 'preprocessor__numerical__scaler__with_mean', 'preprocessor__numerical__scaler__with_std', 'preprocessor__categorical__memory', 'preprocessor__categorical__steps', 'preprocessor__categorical__verbose', 'preprocessor__categorical__imputer', 'preprocessor__categorical__onehotenc', 'preprocessor__categorical__imputer__add_indicator', 'preprocessor__categorical__imputer__copy', 'preprocessor__categorical__imputer__fill_value', 'preprocessor__categorical__imputer__missing_values', 'preprocessor__categorical__imputer__strategy', 'preprocessor__categorical__imputer__verbose', 'preprocessor__categorical__onehotenc__categories', 'preprocessor__categorical__onehotenc__drop', 'preprocessor__categorical__onehotenc__dtype', 'preprocessor__categorical__onehotenc__handle_unknown', 'preprocessor__categorical__onehotenc__sparse', 'model__copy_X', 'model__fit_intercept', 'model__n_jobs', 'model__normalize', 'model__positive'])"
            ]
          },
          "metadata": {},
          "execution_count": 191
        }
      ]
    },
    {
      "cell_type": "code",
      "source": [],
      "metadata": {
        "id": "ZdHaMKp3JBL1"
      },
      "execution_count": null,
      "outputs": []
    }
  ]
}